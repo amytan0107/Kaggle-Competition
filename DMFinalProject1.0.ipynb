{
 "cells": [
  {
   "cell_type": "code",
   "execution_count": 1,
   "id": "0d6d2414",
   "metadata": {
    "execution": {
     "iopub.execute_input": "2024-11-11T16:02:05.087823Z",
     "iopub.status.busy": "2024-11-11T16:02:05.087377Z",
     "iopub.status.idle": "2024-11-11T16:02:32.461309Z",
     "shell.execute_reply": "2024-11-11T16:02:32.460005Z"
    },
    "papermill": {
     "duration": 27.402517,
     "end_time": "2024-11-11T16:02:32.464326",
     "exception": false,
     "start_time": "2024-11-11T16:02:05.061809",
     "status": "completed"
    },
    "tags": []
   },
   "outputs": [],
   "source": [
    "import os\n",
    "import warnings\n",
    "\n",
    "import numpy as np\n",
    "import pandas as pd\n",
    "import matplotlib.pyplot as plt\n",
    "import seaborn as sns\n",
    "from tqdm import tqdm\n",
    "from concurrent.futures import ThreadPoolExecutor\n",
    "\n",
    "from sklearn.experimental import enable_iterative_imputer\n",
    "from sklearn.impute import KNNImputer, IterativeImputer\n",
    "from sklearn.model_selection import train_test_split, StratifiedKFold\n",
    "from sklearn.preprocessing import StandardScaler\n",
    "from sklearn.ensemble import (RandomForestClassifier, RandomForestRegressor,\n",
    "                              VotingClassifier, VotingRegressor, GradientBoostingClassifier,\n",
    "                              GradientBoostingRegressor, AdaBoostClassifier)\n",
    "from sklearn.metrics import (classification_report, confusion_matrix, mean_squared_error,\n",
    "                             accuracy_score, cohen_kappa_score, r2_score, make_scorer)\n",
    "from sklearn.decomposition import PCA\n",
    "from sklearn.tree import DecisionTreeRegressor \n",
    "from scipy.optimize import minimize\n",
    "\n",
    "from keras.models import Model\n",
    "from keras.layers import Input, Dense\n",
    "\n",
    "from xgboost import XGBRegressor\n",
    "from catboost import CatBoostRegressor\n",
    "\n",
    "import torch\n",
    "import torch.nn as nn\n",
    "import torch.optim as optim"
   ]
  },
  {
   "cell_type": "markdown",
   "id": "a68e1d52",
   "metadata": {
    "papermill": {
     "duration": 0.021914,
     "end_time": "2024-11-11T16:02:32.510848",
     "exception": false,
     "start_time": "2024-11-11T16:02:32.488934",
     "status": "completed"
    },
    "tags": []
   },
   "source": [
    "# Progress Report #1"
   ]
  },
  {
   "cell_type": "markdown",
   "id": "920e7e09",
   "metadata": {
    "papermill": {
     "duration": 0.021907,
     "end_time": "2024-11-11T16:02:32.555119",
     "exception": false,
     "start_time": "2024-11-11T16:02:32.533212",
     "status": "completed"
    },
    "tags": []
   },
   "source": [
    "# Importing Data"
   ]
  },
  {
   "cell_type": "code",
   "execution_count": 2,
   "id": "5e1f7482",
   "metadata": {
    "execution": {
     "iopub.execute_input": "2024-11-11T16:02:32.603528Z",
     "iopub.status.busy": "2024-11-11T16:02:32.601766Z",
     "iopub.status.idle": "2024-11-11T16:02:32.707436Z",
     "shell.execute_reply": "2024-11-11T16:02:32.706239Z"
    },
    "papermill": {
     "duration": 0.13268,
     "end_time": "2024-11-11T16:02:32.710625",
     "exception": false,
     "start_time": "2024-11-11T16:02:32.577945",
     "status": "completed"
    },
    "tags": []
   },
   "outputs": [],
   "source": [
    "# Load Data\n",
    "\n",
    "train_df = pd.read_csv('/kaggle/input/child-mind-institute-problematic-internet-use/train.csv')\n",
    "test_df = pd.read_csv('/kaggle/input/child-mind-institute-problematic-internet-use/test.csv')\n",
    "data_dict = pd.read_csv('/kaggle/input/child-mind-institute-problematic-internet-use/data_dictionary.csv')"
   ]
  },
  {
   "cell_type": "markdown",
   "id": "a9e8f2f5",
   "metadata": {
    "papermill": {
     "duration": 0.022165,
     "end_time": "2024-11-11T16:02:32.755986",
     "exception": false,
     "start_time": "2024-11-11T16:02:32.733821",
     "status": "completed"
    },
    "tags": []
   },
   "source": [
    "# Data Preparation"
   ]
  },
  {
   "cell_type": "code",
   "execution_count": 3,
   "id": "b89c8b99",
   "metadata": {
    "execution": {
     "iopub.execute_input": "2024-11-11T16:02:32.802596Z",
     "iopub.status.busy": "2024-11-11T16:02:32.802195Z",
     "iopub.status.idle": "2024-11-11T16:02:33.006595Z",
     "shell.execute_reply": "2024-11-11T16:02:33.005510Z"
    },
    "papermill": {
     "duration": 0.230749,
     "end_time": "2024-11-11T16:02:33.009179",
     "exception": false,
     "start_time": "2024-11-11T16:02:32.778430",
     "status": "completed"
    },
    "tags": []
   },
   "outputs": [
    {
     "data": {
      "text/html": [
       "<div>\n",
       "<style scoped>\n",
       "    .dataframe tbody tr th:only-of-type {\n",
       "        vertical-align: middle;\n",
       "    }\n",
       "\n",
       "    .dataframe tbody tr th {\n",
       "        vertical-align: top;\n",
       "    }\n",
       "\n",
       "    .dataframe thead th {\n",
       "        text-align: right;\n",
       "    }\n",
       "</style>\n",
       "<table border=\"1\" class=\"dataframe\">\n",
       "  <thead>\n",
       "    <tr style=\"text-align: right;\">\n",
       "      <th></th>\n",
       "      <th>count</th>\n",
       "      <th>mean</th>\n",
       "      <th>std</th>\n",
       "      <th>min</th>\n",
       "      <th>25%</th>\n",
       "      <th>50%</th>\n",
       "      <th>75%</th>\n",
       "      <th>max</th>\n",
       "    </tr>\n",
       "  </thead>\n",
       "  <tbody>\n",
       "    <tr>\n",
       "      <th>Basic_Demos-Age</th>\n",
       "      <td>3960.0</td>\n",
       "      <td>10.433586</td>\n",
       "      <td>3.574648</td>\n",
       "      <td>5.0</td>\n",
       "      <td>8.00000</td>\n",
       "      <td>10.000000</td>\n",
       "      <td>13.000000</td>\n",
       "      <td>22.000000</td>\n",
       "    </tr>\n",
       "    <tr>\n",
       "      <th>Basic_Demos-Sex</th>\n",
       "      <td>3960.0</td>\n",
       "      <td>0.372727</td>\n",
       "      <td>0.483591</td>\n",
       "      <td>0.0</td>\n",
       "      <td>0.00000</td>\n",
       "      <td>0.000000</td>\n",
       "      <td>1.000000</td>\n",
       "      <td>1.000000</td>\n",
       "    </tr>\n",
       "    <tr>\n",
       "      <th>CGAS-CGAS_Score</th>\n",
       "      <td>2421.0</td>\n",
       "      <td>65.454771</td>\n",
       "      <td>22.341862</td>\n",
       "      <td>25.0</td>\n",
       "      <td>59.00000</td>\n",
       "      <td>65.000000</td>\n",
       "      <td>75.000000</td>\n",
       "      <td>999.000000</td>\n",
       "    </tr>\n",
       "    <tr>\n",
       "      <th>Physical-BMI</th>\n",
       "      <td>3022.0</td>\n",
       "      <td>19.331929</td>\n",
       "      <td>5.113934</td>\n",
       "      <td>0.0</td>\n",
       "      <td>15.86935</td>\n",
       "      <td>17.937682</td>\n",
       "      <td>21.571244</td>\n",
       "      <td>59.132048</td>\n",
       "    </tr>\n",
       "    <tr>\n",
       "      <th>Physical-Height</th>\n",
       "      <td>3027.0</td>\n",
       "      <td>55.946713</td>\n",
       "      <td>7.473764</td>\n",
       "      <td>33.0</td>\n",
       "      <td>50.00000</td>\n",
       "      <td>55.000000</td>\n",
       "      <td>62.000000</td>\n",
       "      <td>78.500000</td>\n",
       "    </tr>\n",
       "    <tr>\n",
       "      <th>...</th>\n",
       "      <td>...</td>\n",
       "      <td>...</td>\n",
       "      <td>...</td>\n",
       "      <td>...</td>\n",
       "      <td>...</td>\n",
       "      <td>...</td>\n",
       "      <td>...</td>\n",
       "      <td>...</td>\n",
       "    </tr>\n",
       "    <tr>\n",
       "      <th>PCIAT-PCIAT_Total</th>\n",
       "      <td>2736.0</td>\n",
       "      <td>27.896199</td>\n",
       "      <td>20.338853</td>\n",
       "      <td>0.0</td>\n",
       "      <td>12.00000</td>\n",
       "      <td>26.000000</td>\n",
       "      <td>41.000000</td>\n",
       "      <td>93.000000</td>\n",
       "    </tr>\n",
       "    <tr>\n",
       "      <th>SDS-SDS_Total_Raw</th>\n",
       "      <td>2609.0</td>\n",
       "      <td>41.088923</td>\n",
       "      <td>10.427433</td>\n",
       "      <td>17.0</td>\n",
       "      <td>33.00000</td>\n",
       "      <td>39.000000</td>\n",
       "      <td>46.000000</td>\n",
       "      <td>96.000000</td>\n",
       "    </tr>\n",
       "    <tr>\n",
       "      <th>SDS-SDS_Total_T</th>\n",
       "      <td>2606.0</td>\n",
       "      <td>57.763622</td>\n",
       "      <td>13.196091</td>\n",
       "      <td>38.0</td>\n",
       "      <td>47.00000</td>\n",
       "      <td>55.000000</td>\n",
       "      <td>64.000000</td>\n",
       "      <td>100.000000</td>\n",
       "    </tr>\n",
       "    <tr>\n",
       "      <th>PreInt_EduHx-computerinternet_hoursday</th>\n",
       "      <td>3301.0</td>\n",
       "      <td>1.060588</td>\n",
       "      <td>1.094875</td>\n",
       "      <td>0.0</td>\n",
       "      <td>0.00000</td>\n",
       "      <td>1.000000</td>\n",
       "      <td>2.000000</td>\n",
       "      <td>3.000000</td>\n",
       "    </tr>\n",
       "    <tr>\n",
       "      <th>sii</th>\n",
       "      <td>2736.0</td>\n",
       "      <td>0.580409</td>\n",
       "      <td>0.771122</td>\n",
       "      <td>0.0</td>\n",
       "      <td>0.00000</td>\n",
       "      <td>0.000000</td>\n",
       "      <td>1.000000</td>\n",
       "      <td>3.000000</td>\n",
       "    </tr>\n",
       "  </tbody>\n",
       "</table>\n",
       "<p>70 rows × 8 columns</p>\n",
       "</div>"
      ],
      "text/plain": [
       "                                         count       mean        std   min  \\\n",
       "Basic_Demos-Age                         3960.0  10.433586   3.574648   5.0   \n",
       "Basic_Demos-Sex                         3960.0   0.372727   0.483591   0.0   \n",
       "CGAS-CGAS_Score                         2421.0  65.454771  22.341862  25.0   \n",
       "Physical-BMI                            3022.0  19.331929   5.113934   0.0   \n",
       "Physical-Height                         3027.0  55.946713   7.473764  33.0   \n",
       "...                                        ...        ...        ...   ...   \n",
       "PCIAT-PCIAT_Total                       2736.0  27.896199  20.338853   0.0   \n",
       "SDS-SDS_Total_Raw                       2609.0  41.088923  10.427433  17.0   \n",
       "SDS-SDS_Total_T                         2606.0  57.763622  13.196091  38.0   \n",
       "PreInt_EduHx-computerinternet_hoursday  3301.0   1.060588   1.094875   0.0   \n",
       "sii                                     2736.0   0.580409   0.771122   0.0   \n",
       "\n",
       "                                             25%        50%        75%  \\\n",
       "Basic_Demos-Age                          8.00000  10.000000  13.000000   \n",
       "Basic_Demos-Sex                          0.00000   0.000000   1.000000   \n",
       "CGAS-CGAS_Score                         59.00000  65.000000  75.000000   \n",
       "Physical-BMI                            15.86935  17.937682  21.571244   \n",
       "Physical-Height                         50.00000  55.000000  62.000000   \n",
       "...                                          ...        ...        ...   \n",
       "PCIAT-PCIAT_Total                       12.00000  26.000000  41.000000   \n",
       "SDS-SDS_Total_Raw                       33.00000  39.000000  46.000000   \n",
       "SDS-SDS_Total_T                         47.00000  55.000000  64.000000   \n",
       "PreInt_EduHx-computerinternet_hoursday   0.00000   1.000000   2.000000   \n",
       "sii                                      0.00000   0.000000   1.000000   \n",
       "\n",
       "                                               max  \n",
       "Basic_Demos-Age                          22.000000  \n",
       "Basic_Demos-Sex                           1.000000  \n",
       "CGAS-CGAS_Score                         999.000000  \n",
       "Physical-BMI                             59.132048  \n",
       "Physical-Height                          78.500000  \n",
       "...                                            ...  \n",
       "PCIAT-PCIAT_Total                        93.000000  \n",
       "SDS-SDS_Total_Raw                        96.000000  \n",
       "SDS-SDS_Total_T                         100.000000  \n",
       "PreInt_EduHx-computerinternet_hoursday    3.000000  \n",
       "sii                                       3.000000  \n",
       "\n",
       "[70 rows x 8 columns]"
      ]
     },
     "execution_count": 3,
     "metadata": {},
     "output_type": "execute_result"
    }
   ],
   "source": [
    "# Get Statistical details\n",
    "\n",
    "train_df.describe().transpose()"
   ]
  },
  {
   "cell_type": "code",
   "execution_count": 4,
   "id": "048e435a",
   "metadata": {
    "execution": {
     "iopub.execute_input": "2024-11-11T16:02:33.059063Z",
     "iopub.status.busy": "2024-11-11T16:02:33.058625Z",
     "iopub.status.idle": "2024-11-11T16:02:33.100943Z",
     "shell.execute_reply": "2024-11-11T16:02:33.099648Z"
    },
    "papermill": {
     "duration": 0.070466,
     "end_time": "2024-11-11T16:02:33.103767",
     "exception": false,
     "start_time": "2024-11-11T16:02:33.033301",
     "status": "completed"
    },
    "tags": []
   },
   "outputs": [
    {
     "name": "stdout",
     "output_type": "stream",
     "text": [
      "<class 'pandas.core.frame.DataFrame'>\n",
      "RangeIndex: 3960 entries, 0 to 3959\n",
      "Data columns (total 82 columns):\n",
      " #   Column                                  Non-Null Count  Dtype  \n",
      "---  ------                                  --------------  -----  \n",
      " 0   id                                      3960 non-null   object \n",
      " 1   Basic_Demos-Enroll_Season               3960 non-null   object \n",
      " 2   Basic_Demos-Age                         3960 non-null   int64  \n",
      " 3   Basic_Demos-Sex                         3960 non-null   int64  \n",
      " 4   CGAS-Season                             2555 non-null   object \n",
      " 5   CGAS-CGAS_Score                         2421 non-null   float64\n",
      " 6   Physical-Season                         3310 non-null   object \n",
      " 7   Physical-BMI                            3022 non-null   float64\n",
      " 8   Physical-Height                         3027 non-null   float64\n",
      " 9   Physical-Weight                         3076 non-null   float64\n",
      " 10  Physical-Waist_Circumference            898 non-null    float64\n",
      " 11  Physical-Diastolic_BP                   2954 non-null   float64\n",
      " 12  Physical-HeartRate                      2967 non-null   float64\n",
      " 13  Physical-Systolic_BP                    2954 non-null   float64\n",
      " 14  Fitness_Endurance-Season                1308 non-null   object \n",
      " 15  Fitness_Endurance-Max_Stage             743 non-null    float64\n",
      " 16  Fitness_Endurance-Time_Mins             740 non-null    float64\n",
      " 17  Fitness_Endurance-Time_Sec              740 non-null    float64\n",
      " 18  FGC-Season                              3346 non-null   object \n",
      " 19  FGC-FGC_CU                              2322 non-null   float64\n",
      " 20  FGC-FGC_CU_Zone                         2282 non-null   float64\n",
      " 21  FGC-FGC_GSND                            1074 non-null   float64\n",
      " 22  FGC-FGC_GSND_Zone                       1062 non-null   float64\n",
      " 23  FGC-FGC_GSD                             1074 non-null   float64\n",
      " 24  FGC-FGC_GSD_Zone                        1063 non-null   float64\n",
      " 25  FGC-FGC_PU                              2310 non-null   float64\n",
      " 26  FGC-FGC_PU_Zone                         2271 non-null   float64\n",
      " 27  FGC-FGC_SRL                             2305 non-null   float64\n",
      " 28  FGC-FGC_SRL_Zone                        2267 non-null   float64\n",
      " 29  FGC-FGC_SRR                             2307 non-null   float64\n",
      " 30  FGC-FGC_SRR_Zone                        2269 non-null   float64\n",
      " 31  FGC-FGC_TL                              2324 non-null   float64\n",
      " 32  FGC-FGC_TL_Zone                         2285 non-null   float64\n",
      " 33  BIA-Season                              2145 non-null   object \n",
      " 34  BIA-BIA_Activity_Level_num              1991 non-null   float64\n",
      " 35  BIA-BIA_BMC                             1991 non-null   float64\n",
      " 36  BIA-BIA_BMI                             1991 non-null   float64\n",
      " 37  BIA-BIA_BMR                             1991 non-null   float64\n",
      " 38  BIA-BIA_DEE                             1991 non-null   float64\n",
      " 39  BIA-BIA_ECW                             1991 non-null   float64\n",
      " 40  BIA-BIA_FFM                             1991 non-null   float64\n",
      " 41  BIA-BIA_FFMI                            1991 non-null   float64\n",
      " 42  BIA-BIA_FMI                             1991 non-null   float64\n",
      " 43  BIA-BIA_Fat                             1991 non-null   float64\n",
      " 44  BIA-BIA_Frame_num                       1991 non-null   float64\n",
      " 45  BIA-BIA_ICW                             1991 non-null   float64\n",
      " 46  BIA-BIA_LDM                             1991 non-null   float64\n",
      " 47  BIA-BIA_LST                             1991 non-null   float64\n",
      " 48  BIA-BIA_SMM                             1991 non-null   float64\n",
      " 49  BIA-BIA_TBW                             1991 non-null   float64\n",
      " 50  PAQ_A-Season                            475 non-null    object \n",
      " 51  PAQ_A-PAQ_A_Total                       475 non-null    float64\n",
      " 52  PAQ_C-Season                            1721 non-null   object \n",
      " 53  PAQ_C-PAQ_C_Total                       1721 non-null   float64\n",
      " 54  PCIAT-Season                            2736 non-null   object \n",
      " 55  PCIAT-PCIAT_01                          2733 non-null   float64\n",
      " 56  PCIAT-PCIAT_02                          2734 non-null   float64\n",
      " 57  PCIAT-PCIAT_03                          2731 non-null   float64\n",
      " 58  PCIAT-PCIAT_04                          2731 non-null   float64\n",
      " 59  PCIAT-PCIAT_05                          2729 non-null   float64\n",
      " 60  PCIAT-PCIAT_06                          2732 non-null   float64\n",
      " 61  PCIAT-PCIAT_07                          2729 non-null   float64\n",
      " 62  PCIAT-PCIAT_08                          2730 non-null   float64\n",
      " 63  PCIAT-PCIAT_09                          2730 non-null   float64\n",
      " 64  PCIAT-PCIAT_10                          2733 non-null   float64\n",
      " 65  PCIAT-PCIAT_11                          2734 non-null   float64\n",
      " 66  PCIAT-PCIAT_12                          2731 non-null   float64\n",
      " 67  PCIAT-PCIAT_13                          2729 non-null   float64\n",
      " 68  PCIAT-PCIAT_14                          2732 non-null   float64\n",
      " 69  PCIAT-PCIAT_15                          2730 non-null   float64\n",
      " 70  PCIAT-PCIAT_16                          2728 non-null   float64\n",
      " 71  PCIAT-PCIAT_17                          2725 non-null   float64\n",
      " 72  PCIAT-PCIAT_18                          2728 non-null   float64\n",
      " 73  PCIAT-PCIAT_19                          2730 non-null   float64\n",
      " 74  PCIAT-PCIAT_20                          2733 non-null   float64\n",
      " 75  PCIAT-PCIAT_Total                       2736 non-null   float64\n",
      " 76  SDS-Season                              2618 non-null   object \n",
      " 77  SDS-SDS_Total_Raw                       2609 non-null   float64\n",
      " 78  SDS-SDS_Total_T                         2606 non-null   float64\n",
      " 79  PreInt_EduHx-Season                     3540 non-null   object \n",
      " 80  PreInt_EduHx-computerinternet_hoursday  3301 non-null   float64\n",
      " 81  sii                                     2736 non-null   float64\n",
      "dtypes: float64(68), int64(2), object(12)\n",
      "memory usage: 2.5+ MB\n"
     ]
    }
   ],
   "source": [
    "train_df.info()"
   ]
  },
  {
   "cell_type": "code",
   "execution_count": 5,
   "id": "74097162",
   "metadata": {
    "execution": {
     "iopub.execute_input": "2024-11-11T16:02:33.151817Z",
     "iopub.status.busy": "2024-11-11T16:02:33.151363Z",
     "iopub.status.idle": "2024-11-11T16:02:33.168593Z",
     "shell.execute_reply": "2024-11-11T16:02:33.167254Z"
    },
    "papermill": {
     "duration": 0.045096,
     "end_time": "2024-11-11T16:02:33.171893",
     "exception": false,
     "start_time": "2024-11-11T16:02:33.126797",
     "status": "completed"
    },
    "tags": []
   },
   "outputs": [
    {
     "name": "stdout",
     "output_type": "stream",
     "text": [
      "<class 'pandas.core.frame.DataFrame'>\n",
      "RangeIndex: 20 entries, 0 to 19\n",
      "Data columns (total 59 columns):\n",
      " #   Column                                  Non-Null Count  Dtype  \n",
      "---  ------                                  --------------  -----  \n",
      " 0   id                                      20 non-null     object \n",
      " 1   Basic_Demos-Enroll_Season               20 non-null     object \n",
      " 2   Basic_Demos-Age                         20 non-null     int64  \n",
      " 3   Basic_Demos-Sex                         20 non-null     int64  \n",
      " 4   CGAS-Season                             10 non-null     object \n",
      " 5   CGAS-CGAS_Score                         8 non-null      float64\n",
      " 6   Physical-Season                         14 non-null     object \n",
      " 7   Physical-BMI                            13 non-null     float64\n",
      " 8   Physical-Height                         13 non-null     float64\n",
      " 9   Physical-Weight                         13 non-null     float64\n",
      " 10  Physical-Waist_Circumference            5 non-null      float64\n",
      " 11  Physical-Diastolic_BP                   11 non-null     float64\n",
      " 12  Physical-HeartRate                      12 non-null     float64\n",
      " 13  Physical-Systolic_BP                    11 non-null     float64\n",
      " 14  Fitness_Endurance-Season                4 non-null      object \n",
      " 15  Fitness_Endurance-Max_Stage             3 non-null      float64\n",
      " 16  Fitness_Endurance-Time_Mins             3 non-null      float64\n",
      " 17  Fitness_Endurance-Time_Sec              3 non-null      float64\n",
      " 18  FGC-Season                              17 non-null     object \n",
      " 19  FGC-FGC_CU                              13 non-null     float64\n",
      " 20  FGC-FGC_CU_Zone                         13 non-null     float64\n",
      " 21  FGC-FGC_GSND                            5 non-null      float64\n",
      " 22  FGC-FGC_GSND_Zone                       5 non-null      float64\n",
      " 23  FGC-FGC_GSD                             5 non-null      float64\n",
      " 24  FGC-FGC_GSD_Zone                        5 non-null      float64\n",
      " 25  FGC-FGC_PU                              13 non-null     float64\n",
      " 26  FGC-FGC_PU_Zone                         13 non-null     float64\n",
      " 27  FGC-FGC_SRL                             13 non-null     float64\n",
      " 28  FGC-FGC_SRL_Zone                        13 non-null     float64\n",
      " 29  FGC-FGC_SRR                             13 non-null     float64\n",
      " 30  FGC-FGC_SRR_Zone                        13 non-null     float64\n",
      " 31  FGC-FGC_TL                              13 non-null     float64\n",
      " 32  FGC-FGC_TL_Zone                         13 non-null     float64\n",
      " 33  BIA-Season                              8 non-null      object \n",
      " 34  BIA-BIA_Activity_Level_num              8 non-null      float64\n",
      " 35  BIA-BIA_BMC                             8 non-null      float64\n",
      " 36  BIA-BIA_BMI                             8 non-null      float64\n",
      " 37  BIA-BIA_BMR                             8 non-null      float64\n",
      " 38  BIA-BIA_DEE                             8 non-null      float64\n",
      " 39  BIA-BIA_ECW                             8 non-null      float64\n",
      " 40  BIA-BIA_FFM                             8 non-null      float64\n",
      " 41  BIA-BIA_FFMI                            8 non-null      float64\n",
      " 42  BIA-BIA_FMI                             8 non-null      float64\n",
      " 43  BIA-BIA_Fat                             8 non-null      float64\n",
      " 44  BIA-BIA_Frame_num                       8 non-null      float64\n",
      " 45  BIA-BIA_ICW                             8 non-null      float64\n",
      " 46  BIA-BIA_LDM                             8 non-null      float64\n",
      " 47  BIA-BIA_LST                             8 non-null      float64\n",
      " 48  BIA-BIA_SMM                             8 non-null      float64\n",
      " 49  BIA-BIA_TBW                             8 non-null      float64\n",
      " 50  PAQ_A-Season                            1 non-null      object \n",
      " 51  PAQ_A-PAQ_A_Total                       1 non-null      float64\n",
      " 52  PAQ_C-Season                            9 non-null      object \n",
      " 53  PAQ_C-PAQ_C_Total                       9 non-null      float64\n",
      " 54  SDS-Season                              10 non-null     object \n",
      " 55  SDS-SDS_Total_Raw                       10 non-null     float64\n",
      " 56  SDS-SDS_Total_T                         10 non-null     float64\n",
      " 57  PreInt_EduHx-Season                     18 non-null     object \n",
      " 58  PreInt_EduHx-computerinternet_hoursday  16 non-null     float64\n",
      "dtypes: float64(46), int64(2), object(11)\n",
      "memory usage: 9.3+ KB\n"
     ]
    }
   ],
   "source": [
    "test_df.info()"
   ]
  },
  {
   "cell_type": "code",
   "execution_count": 6,
   "id": "665390d4",
   "metadata": {
    "execution": {
     "iopub.execute_input": "2024-11-11T16:02:33.220720Z",
     "iopub.status.busy": "2024-11-11T16:02:33.220265Z",
     "iopub.status.idle": "2024-11-11T16:02:33.235189Z",
     "shell.execute_reply": "2024-11-11T16:02:33.233740Z"
    },
    "papermill": {
     "duration": 0.042595,
     "end_time": "2024-11-11T16:02:33.238191",
     "exception": false,
     "start_time": "2024-11-11T16:02:33.195596",
     "status": "completed"
    },
    "tags": []
   },
   "outputs": [
    {
     "data": {
      "text/html": [
       "<div>\n",
       "<style scoped>\n",
       "    .dataframe tbody tr th:only-of-type {\n",
       "        vertical-align: middle;\n",
       "    }\n",
       "\n",
       "    .dataframe tbody tr th {\n",
       "        vertical-align: top;\n",
       "    }\n",
       "\n",
       "    .dataframe thead th {\n",
       "        text-align: right;\n",
       "    }\n",
       "</style>\n",
       "<table border=\"1\" class=\"dataframe\">\n",
       "  <thead>\n",
       "    <tr style=\"text-align: right;\">\n",
       "      <th></th>\n",
       "      <th>Instrument</th>\n",
       "      <th>Field</th>\n",
       "      <th>Description</th>\n",
       "      <th>Type</th>\n",
       "      <th>Values</th>\n",
       "      <th>Value Labels</th>\n",
       "    </tr>\n",
       "  </thead>\n",
       "  <tbody>\n",
       "    <tr>\n",
       "      <th>0</th>\n",
       "      <td>Identifier</td>\n",
       "      <td>id</td>\n",
       "      <td>Participant's ID</td>\n",
       "      <td>str</td>\n",
       "      <td>NaN</td>\n",
       "      <td>NaN</td>\n",
       "    </tr>\n",
       "    <tr>\n",
       "      <th>1</th>\n",
       "      <td>Demographics</td>\n",
       "      <td>Basic_Demos-Enroll_Season</td>\n",
       "      <td>Season of enrollment</td>\n",
       "      <td>str</td>\n",
       "      <td>Spring, Summer, Fall, Winter</td>\n",
       "      <td>NaN</td>\n",
       "    </tr>\n",
       "    <tr>\n",
       "      <th>2</th>\n",
       "      <td>Demographics</td>\n",
       "      <td>Basic_Demos-Age</td>\n",
       "      <td>Age of participant</td>\n",
       "      <td>float</td>\n",
       "      <td>NaN</td>\n",
       "      <td>NaN</td>\n",
       "    </tr>\n",
       "    <tr>\n",
       "      <th>3</th>\n",
       "      <td>Demographics</td>\n",
       "      <td>Basic_Demos-Sex</td>\n",
       "      <td>Sex of participant</td>\n",
       "      <td>categorical int</td>\n",
       "      <td>0,1</td>\n",
       "      <td>0=Male, 1=Female</td>\n",
       "    </tr>\n",
       "    <tr>\n",
       "      <th>4</th>\n",
       "      <td>Children's Global Assessment Scale</td>\n",
       "      <td>CGAS-Season</td>\n",
       "      <td>Season of participation</td>\n",
       "      <td>str</td>\n",
       "      <td>Spring, Summer, Fall, Winter</td>\n",
       "      <td>NaN</td>\n",
       "    </tr>\n",
       "  </tbody>\n",
       "</table>\n",
       "</div>"
      ],
      "text/plain": [
       "                           Instrument                      Field  \\\n",
       "0                          Identifier                         id   \n",
       "1                        Demographics  Basic_Demos-Enroll_Season   \n",
       "2                        Demographics            Basic_Demos-Age   \n",
       "3                        Demographics            Basic_Demos-Sex   \n",
       "4  Children's Global Assessment Scale                CGAS-Season   \n",
       "\n",
       "               Description             Type                        Values  \\\n",
       "0         Participant's ID              str                           NaN   \n",
       "1     Season of enrollment              str  Spring, Summer, Fall, Winter   \n",
       "2       Age of participant            float                           NaN   \n",
       "3       Sex of participant  categorical int                           0,1   \n",
       "4  Season of participation              str  Spring, Summer, Fall, Winter   \n",
       "\n",
       "       Value Labels  \n",
       "0               NaN  \n",
       "1               NaN  \n",
       "2               NaN  \n",
       "3  0=Male, 1=Female  \n",
       "4               NaN  "
      ]
     },
     "execution_count": 6,
     "metadata": {},
     "output_type": "execute_result"
    }
   ],
   "source": [
    "data_dict.head()"
   ]
  },
  {
   "cell_type": "markdown",
   "id": "b4c2a19b",
   "metadata": {
    "papermill": {
     "duration": 0.023483,
     "end_time": "2024-11-11T16:02:33.285773",
     "exception": false,
     "start_time": "2024-11-11T16:02:33.262290",
     "status": "completed"
    },
    "tags": []
   },
   "source": [
    "## EDA"
   ]
  },
  {
   "cell_type": "code",
   "execution_count": 7,
   "id": "7a964cea",
   "metadata": {
    "execution": {
     "iopub.execute_input": "2024-11-11T16:02:33.336572Z",
     "iopub.status.busy": "2024-11-11T16:02:33.336100Z",
     "iopub.status.idle": "2024-11-11T16:02:33.782516Z",
     "shell.execute_reply": "2024-11-11T16:02:33.781232Z"
    },
    "papermill": {
     "duration": 0.474955,
     "end_time": "2024-11-11T16:02:33.785170",
     "exception": false,
     "start_time": "2024-11-11T16:02:33.310215",
     "status": "completed"
    },
    "tags": []
   },
   "outputs": [
    {
     "name": "stdout",
     "output_type": "stream",
     "text": [
      "Class Distribution:\n",
      " sii\n",
      "0.0    1594\n",
      "1.0     730\n",
      "2.0     378\n",
      "3.0      34\n",
      "Name: count, dtype: int64\n"
     ]
    },
    {
     "data": {
      "image/png": "[encoded data removed]",
      "text/plain": [
       "<Figure size 1000x600 with 1 Axes>"
      ]
     },
     "metadata": {},
     "output_type": "display_data"
    }
   ],
   "source": [
    "# Check the distribution of the target variable 'sii'\n",
    "class_distribution = train_df['sii'].value_counts().sort_index()\n",
    "print(\"Class Distribution:\\n\", class_distribution)\n",
    "\n",
    "# Set the style for the plot\n",
    "sns.set(style=\"whitegrid\")\n",
    "\n",
    "# Create a bar plot of class distribution\n",
    "plt.figure(figsize=(10, 6))\n",
    "sns.barplot(x=class_distribution.index, y=class_distribution.values, palette='viridis', alpha=0.8)\n",
    "\n",
    "# Set the title and labels\n",
    "plt.title('Class Distribution of Target Variable (sii)', fontsize=16)\n",
    "plt.xlabel('Classes', fontsize=14)\n",
    "plt.ylabel('Number of Instances', fontsize=14)\n",
    "plt.xticks(rotation=45)\n",
    "plt.grid(axis='y', linestyle='--', alpha=0.7)  # Optional: add gridlines for better readability\n",
    "\n",
    "# Show the plot\n",
    "plt.show()"
   ]
  },
  {
   "cell_type": "code",
   "execution_count": 8,
   "id": "cfe2f4eb",
   "metadata": {
    "execution": {
     "iopub.execute_input": "2024-11-11T16:02:33.836672Z",
     "iopub.status.busy": "2024-11-11T16:02:33.836239Z",
     "iopub.status.idle": "2024-11-11T16:02:33.847409Z",
     "shell.execute_reply": "2024-11-11T16:02:33.846133Z"
    },
    "papermill": {
     "duration": 0.040612,
     "end_time": "2024-11-11T16:02:33.850363",
     "exception": false,
     "start_time": "2024-11-11T16:02:33.809751",
     "status": "completed"
    },
    "tags": []
   },
   "outputs": [],
   "source": [
    "def calculate_stats(data, columns):\n",
    "    if isinstance(columns, str):\n",
    "        columns = [columns]\n",
    "\n",
    "    stats = []\n",
    "    for col in columns:\n",
    "        if data[col].dtype in ['object', 'category']:\n",
    "            counts = data[col].value_counts(dropna=False, sort=False)\n",
    "            percents = data[col].value_counts(normalize=True, dropna=False, sort=False) * 100\n",
    "            formatted = counts.astype(str) + ' (' + percents.round(2).astype(str) + '%)'\n",
    "            stats_col = pd.DataFrame({'count (%)': formatted})\n",
    "            stats.append(stats_col)\n",
    "\n",
    "        else:\n",
    "            stats_col = data[col].describe().to_frame().transpose()\n",
    "            stats_col['missing'] = data[col].isnull().sum()\n",
    "            stats_col.index.name = col\n",
    "            stats.append(stats_col)\n",
    "\n",
    "    return pd.concat(stats, axis=0)"
   ]
  },
  {
   "cell_type": "code",
   "execution_count": 9,
   "id": "8385e20e",
   "metadata": {
    "execution": {
     "iopub.execute_input": "2024-11-11T16:02:33.902590Z",
     "iopub.status.busy": "2024-11-11T16:02:33.902118Z",
     "iopub.status.idle": "2024-11-11T16:02:33.924261Z",
     "shell.execute_reply": "2024-11-11T16:02:33.923035Z"
    },
    "papermill": {
     "duration": 0.050791,
     "end_time": "2024-11-11T16:02:33.927040",
     "exception": false,
     "start_time": "2024-11-11T16:02:33.876249",
     "status": "completed"
    },
    "tags": []
   },
   "outputs": [
    {
     "data": {
      "text/html": [
       "<div>\n",
       "<style scoped>\n",
       "    .dataframe tbody tr th:only-of-type {\n",
       "        vertical-align: middle;\n",
       "    }\n",
       "\n",
       "    .dataframe tbody tr th {\n",
       "        vertical-align: top;\n",
       "    }\n",
       "\n",
       "    .dataframe thead th {\n",
       "        text-align: right;\n",
       "    }\n",
       "</style>\n",
       "<table border=\"1\" class=\"dataframe\">\n",
       "  <thead>\n",
       "    <tr style=\"text-align: right;\">\n",
       "      <th></th>\n",
       "      <th>count (%)</th>\n",
       "    </tr>\n",
       "    <tr>\n",
       "      <th>Age Group</th>\n",
       "      <th></th>\n",
       "    </tr>\n",
       "  </thead>\n",
       "  <tbody>\n",
       "    <tr>\n",
       "      <th>Children (5-12)</th>\n",
       "      <td>2919 (73.71%)</td>\n",
       "    </tr>\n",
       "    <tr>\n",
       "      <th>Adolescents (13-18)</th>\n",
       "      <td>953 (24.07%)</td>\n",
       "    </tr>\n",
       "    <tr>\n",
       "      <th>Adults (19-22)</th>\n",
       "      <td>88 (2.22%)</td>\n",
       "    </tr>\n",
       "  </tbody>\n",
       "</table>\n",
       "</div>"
      ],
      "text/plain": [
       "                         count (%)\n",
       "Age Group                         \n",
       "Children (5-12)      2919 (73.71%)\n",
       "Adolescents (13-18)   953 (24.07%)\n",
       "Adults (19-22)          88 (2.22%)"
      ]
     },
     "execution_count": 9,
     "metadata": {},
     "output_type": "execute_result"
    }
   ],
   "source": [
    "# Temporary variable to hold the new column\n",
    "temp_data = train_df.copy()\n",
    "temp_data['Age Group'] = pd.cut(\n",
    "    temp_data['Basic_Demos-Age'],\n",
    "    bins=[4, 12, 18, 22],\n",
    "    labels=['Children (5-12)', 'Adolescents (13-18)', 'Adults (19-22)']\n",
    ")\n",
    "\n",
    "calculate_stats(temp_data, 'Age Group')"
   ]
  },
  {
   "cell_type": "code",
   "execution_count": 10,
   "id": "13b63f8b",
   "metadata": {
    "execution": {
     "iopub.execute_input": "2024-11-11T16:02:33.979181Z",
     "iopub.status.busy": "2024-11-11T16:02:33.978047Z",
     "iopub.status.idle": "2024-11-11T16:02:33.990389Z",
     "shell.execute_reply": "2024-11-11T16:02:33.989285Z"
    },
    "papermill": {
     "duration": 0.041379,
     "end_time": "2024-11-11T16:02:33.993022",
     "exception": false,
     "start_time": "2024-11-11T16:02:33.951643",
     "status": "completed"
    },
    "tags": []
   },
   "outputs": [
    {
     "data": {
      "text/plain": [
       "Basic_Demos-Sex\n",
       "Male      2484\n",
       "Female    1476\n",
       "Name: count, dtype: int64"
      ]
     },
     "execution_count": 10,
     "metadata": {},
     "output_type": "execute_result"
    }
   ],
   "source": [
    "sex_counts_renamed = train_df['Basic_Demos-Sex'].replace({0: 'Male', 1: 'Female'}).value_counts()\n",
    "sex_counts_renamed"
   ]
  },
  {
   "cell_type": "code",
   "execution_count": 11,
   "id": "ad33e55d",
   "metadata": {
    "execution": {
     "iopub.execute_input": "2024-11-11T16:02:34.046865Z",
     "iopub.status.busy": "2024-11-11T16:02:34.046434Z",
     "iopub.status.idle": "2024-11-11T16:02:34.412477Z",
     "shell.execute_reply": "2024-11-11T16:02:34.411188Z"
    },
    "papermill": {
     "duration": 0.397261,
     "end_time": "2024-11-11T16:02:34.415299",
     "exception": false,
     "start_time": "2024-11-11T16:02:34.018038",
     "status": "completed"
    },
    "tags": []
   },
   "outputs": [
    {
     "data": {
      "image/png": "[encoded data removed]",
      "text/plain": [
       "<Figure size 500x500 with 1 Axes>"
      ]
     },
     "metadata": {},
     "output_type": "display_data"
    }
   ],
   "source": [
    "import matplotlib.pyplot as plt\n",
    "import seaborn as sns\n",
    "\n",
    "# Create the boxplot\n",
    "fig, ax = plt.subplots(figsize=(5, 5))\n",
    "\n",
    "# Create the boxplot for SII by Age without hue\n",
    "sns.boxplot(y=train_df['Basic_Demos-Age'], x=train_df['sii'], ax=ax, palette=\"Set3\")\n",
    "\n",
    "# Set the title and labels\n",
    "ax.set_title('SII by Age')  # Set the title on the ax object\n",
    "ax.set_ylabel('Age')  # Set the y-axis label\n",
    "ax.set_xlabel('SII')  # Set the x-axis label\n",
    "\n",
    "# Show the plot\n",
    "plt.show()"
   ]
  },
  {
   "cell_type": "code",
   "execution_count": 12,
   "id": "4c29a2e0",
   "metadata": {
    "execution": {
     "iopub.execute_input": "2024-11-11T16:02:34.468968Z",
     "iopub.status.busy": "2024-11-11T16:02:34.468494Z",
     "iopub.status.idle": "2024-11-11T16:02:34.748781Z",
     "shell.execute_reply": "2024-11-11T16:02:34.747490Z"
    },
    "papermill": {
     "duration": 0.310819,
     "end_time": "2024-11-11T16:02:34.751948",
     "exception": false,
     "start_time": "2024-11-11T16:02:34.441129",
     "status": "completed"
    },
    "tags": []
   },
   "outputs": [
    {
     "data": {
      "image/png": "[encoded data removed]",
      "text/plain": [
       "<Figure size 500x500 with 1 Axes>"
      ]
     },
     "metadata": {},
     "output_type": "display_data"
    }
   ],
   "source": [
    "# Create the boxplot\n",
    "\n",
    "fig, ax = plt.subplots(figsize=(5, 5)) \n",
    "sns.boxplot(y=train_df['Physical-BMI'], x=train_df['sii'], ax=ax, palette=\"Set3\")  # Pass ax directly\n",
    "\n",
    "# Set the title and labels\n",
    "ax.set_title('SII by Physical BMI')  \n",
    "ax.set_ylabel('BMI')  # Set the y-axis label\n",
    "ax.set_xlabel('SII')  # Set the x-axis label\n",
    "\n",
    "# Show the plot\n",
    "plt.show()"
   ]
  },
  {
   "cell_type": "markdown",
   "id": "7b140593",
   "metadata": {
    "papermill": {
     "duration": 0.026347,
     "end_time": "2024-11-11T16:02:34.804472",
     "exception": false,
     "start_time": "2024-11-11T16:02:34.778125",
     "status": "completed"
    },
    "tags": []
   },
   "source": [
    "---"
   ]
  },
  {
   "cell_type": "markdown",
   "id": "e570a32b",
   "metadata": {
    "papermill": {
     "duration": 0.026088,
     "end_time": "2024-11-11T16:02:34.856404",
     "exception": false,
     "start_time": "2024-11-11T16:02:34.830316",
     "status": "completed"
    },
    "tags": []
   },
   "source": [
    "# Data Preprocessing"
   ]
  },
  {
   "cell_type": "code",
   "execution_count": 13,
   "id": "9fe8be08",
   "metadata": {
    "execution": {
     "iopub.execute_input": "2024-11-11T16:02:34.910673Z",
     "iopub.status.busy": "2024-11-11T16:02:34.910248Z",
     "iopub.status.idle": "2024-11-11T16:02:34.916194Z",
     "shell.execute_reply": "2024-11-11T16:02:34.914967Z"
    },
    "papermill": {
     "duration": 0.036182,
     "end_time": "2024-11-11T16:02:34.918592",
     "exception": false,
     "start_time": "2024-11-11T16:02:34.882410",
     "status": "completed"
    },
    "tags": []
   },
   "outputs": [],
   "source": [
    "common_columns = train_df.columns.intersection(test_df.columns)"
   ]
  },
  {
   "cell_type": "code",
   "execution_count": 14,
   "id": "ed190f7f",
   "metadata": {
    "execution": {
     "iopub.execute_input": "2024-11-11T16:02:34.971982Z",
     "iopub.status.busy": "2024-11-11T16:02:34.971540Z",
     "iopub.status.idle": "2024-11-11T16:02:34.983736Z",
     "shell.execute_reply": "2024-11-11T16:02:34.982490Z"
    },
    "papermill": {
     "duration": 0.042291,
     "end_time": "2024-11-11T16:02:34.986648",
     "exception": false,
     "start_time": "2024-11-11T16:02:34.944357",
     "status": "completed"
    },
    "tags": []
   },
   "outputs": [],
   "source": [
    "# Create a copy of the original train_df for reference\n",
    "train_original = train_df.copy()\n",
    "\n",
    "# Filter train_df to keep only the common columns plus the 'sii' column\n",
    "train_df = train_df[common_columns.union(['sii'])]"
   ]
  },
  {
   "cell_type": "code",
   "execution_count": 15,
   "id": "4020b06f",
   "metadata": {
    "execution": {
     "iopub.execute_input": "2024-11-11T16:02:35.042478Z",
     "iopub.status.busy": "2024-11-11T16:02:35.042016Z",
     "iopub.status.idle": "2024-11-11T16:02:35.084412Z",
     "shell.execute_reply": "2024-11-11T16:02:35.083181Z"
    },
    "papermill": {
     "duration": 0.073015,
     "end_time": "2024-11-11T16:02:35.086801",
     "exception": false,
     "start_time": "2024-11-11T16:02:35.013786",
     "status": "completed"
    },
    "tags": []
   },
   "outputs": [
    {
     "data": {
      "text/html": [
       "<div>\n",
       "<style scoped>\n",
       "    .dataframe tbody tr th:only-of-type {\n",
       "        vertical-align: middle;\n",
       "    }\n",
       "\n",
       "    .dataframe tbody tr th {\n",
       "        vertical-align: top;\n",
       "    }\n",
       "\n",
       "    .dataframe thead th {\n",
       "        text-align: right;\n",
       "    }\n",
       "</style>\n",
       "<table border=\"1\" class=\"dataframe\">\n",
       "  <thead>\n",
       "    <tr style=\"text-align: right;\">\n",
       "      <th></th>\n",
       "      <th>BIA-BIA_Activity_Level_num</th>\n",
       "      <th>BIA-BIA_BMC</th>\n",
       "      <th>BIA-BIA_BMI</th>\n",
       "      <th>BIA-BIA_BMR</th>\n",
       "      <th>BIA-BIA_DEE</th>\n",
       "      <th>BIA-BIA_ECW</th>\n",
       "      <th>BIA-BIA_FFM</th>\n",
       "      <th>BIA-BIA_FFMI</th>\n",
       "      <th>BIA-BIA_FMI</th>\n",
       "      <th>BIA-BIA_Fat</th>\n",
       "      <th>...</th>\n",
       "      <th>Physical-Systolic_BP</th>\n",
       "      <th>Physical-Waist_Circumference</th>\n",
       "      <th>Physical-Weight</th>\n",
       "      <th>PreInt_EduHx-Season</th>\n",
       "      <th>PreInt_EduHx-computerinternet_hoursday</th>\n",
       "      <th>SDS-SDS_Total_Raw</th>\n",
       "      <th>SDS-SDS_Total_T</th>\n",
       "      <th>SDS-Season</th>\n",
       "      <th>id</th>\n",
       "      <th>sii</th>\n",
       "    </tr>\n",
       "  </thead>\n",
       "  <tbody>\n",
       "    <tr>\n",
       "      <th>0</th>\n",
       "      <td>2.0</td>\n",
       "      <td>2.66855</td>\n",
       "      <td>16.8792</td>\n",
       "      <td>932.498</td>\n",
       "      <td>1492.00</td>\n",
       "      <td>8.25598</td>\n",
       "      <td>41.5862</td>\n",
       "      <td>13.8177</td>\n",
       "      <td>3.06143</td>\n",
       "      <td>9.21377</td>\n",
       "      <td>...</td>\n",
       "      <td>NaN</td>\n",
       "      <td>NaN</td>\n",
       "      <td>50.8</td>\n",
       "      <td>Fall</td>\n",
       "      <td>3.0</td>\n",
       "      <td>NaN</td>\n",
       "      <td>NaN</td>\n",
       "      <td>NaN</td>\n",
       "      <td>00008ff9</td>\n",
       "      <td>2.0</td>\n",
       "    </tr>\n",
       "    <tr>\n",
       "      <th>1</th>\n",
       "      <td>2.0</td>\n",
       "      <td>2.57949</td>\n",
       "      <td>14.0371</td>\n",
       "      <td>936.656</td>\n",
       "      <td>1498.65</td>\n",
       "      <td>6.01993</td>\n",
       "      <td>42.0291</td>\n",
       "      <td>12.8254</td>\n",
       "      <td>1.21172</td>\n",
       "      <td>3.97085</td>\n",
       "      <td>...</td>\n",
       "      <td>122.0</td>\n",
       "      <td>22.0</td>\n",
       "      <td>46.0</td>\n",
       "      <td>Summer</td>\n",
       "      <td>0.0</td>\n",
       "      <td>46.0</td>\n",
       "      <td>64.0</td>\n",
       "      <td>Fall</td>\n",
       "      <td>000fd460</td>\n",
       "      <td>0.0</td>\n",
       "    </tr>\n",
       "    <tr>\n",
       "      <th>2</th>\n",
       "      <td>NaN</td>\n",
       "      <td>NaN</td>\n",
       "      <td>NaN</td>\n",
       "      <td>NaN</td>\n",
       "      <td>NaN</td>\n",
       "      <td>NaN</td>\n",
       "      <td>NaN</td>\n",
       "      <td>NaN</td>\n",
       "      <td>NaN</td>\n",
       "      <td>NaN</td>\n",
       "      <td>...</td>\n",
       "      <td>117.0</td>\n",
       "      <td>NaN</td>\n",
       "      <td>75.6</td>\n",
       "      <td>Summer</td>\n",
       "      <td>2.0</td>\n",
       "      <td>38.0</td>\n",
       "      <td>54.0</td>\n",
       "      <td>Fall</td>\n",
       "      <td>00105258</td>\n",
       "      <td>0.0</td>\n",
       "    </tr>\n",
       "    <tr>\n",
       "      <th>3</th>\n",
       "      <td>3.0</td>\n",
       "      <td>3.84191</td>\n",
       "      <td>18.2943</td>\n",
       "      <td>1131.430</td>\n",
       "      <td>1923.44</td>\n",
       "      <td>15.59250</td>\n",
       "      <td>62.7757</td>\n",
       "      <td>14.0740</td>\n",
       "      <td>4.22033</td>\n",
       "      <td>18.82430</td>\n",
       "      <td>...</td>\n",
       "      <td>117.0</td>\n",
       "      <td>NaN</td>\n",
       "      <td>81.6</td>\n",
       "      <td>Winter</td>\n",
       "      <td>0.0</td>\n",
       "      <td>31.0</td>\n",
       "      <td>45.0</td>\n",
       "      <td>Summer</td>\n",
       "      <td>00115b9f</td>\n",
       "      <td>1.0</td>\n",
       "    </tr>\n",
       "    <tr>\n",
       "      <th>4</th>\n",
       "      <td>NaN</td>\n",
       "      <td>NaN</td>\n",
       "      <td>NaN</td>\n",
       "      <td>NaN</td>\n",
       "      <td>NaN</td>\n",
       "      <td>NaN</td>\n",
       "      <td>NaN</td>\n",
       "      <td>NaN</td>\n",
       "      <td>NaN</td>\n",
       "      <td>NaN</td>\n",
       "      <td>...</td>\n",
       "      <td>NaN</td>\n",
       "      <td>NaN</td>\n",
       "      <td>NaN</td>\n",
       "      <td>NaN</td>\n",
       "      <td>NaN</td>\n",
       "      <td>NaN</td>\n",
       "      <td>NaN</td>\n",
       "      <td>NaN</td>\n",
       "      <td>0016bb22</td>\n",
       "      <td>NaN</td>\n",
       "    </tr>\n",
       "    <tr>\n",
       "      <th>...</th>\n",
       "      <td>...</td>\n",
       "      <td>...</td>\n",
       "      <td>...</td>\n",
       "      <td>...</td>\n",
       "      <td>...</td>\n",
       "      <td>...</td>\n",
       "      <td>...</td>\n",
       "      <td>...</td>\n",
       "      <td>...</td>\n",
       "      <td>...</td>\n",
       "      <td>...</td>\n",
       "      <td>...</td>\n",
       "      <td>...</td>\n",
       "      <td>...</td>\n",
       "      <td>...</td>\n",
       "      <td>...</td>\n",
       "      <td>...</td>\n",
       "      <td>...</td>\n",
       "      <td>...</td>\n",
       "      <td>...</td>\n",
       "      <td>...</td>\n",
       "    </tr>\n",
       "    <tr>\n",
       "      <th>3955</th>\n",
       "      <td>3.0</td>\n",
       "      <td>4.52277</td>\n",
       "      <td>16.3642</td>\n",
       "      <td>1206.880</td>\n",
       "      <td>2051.70</td>\n",
       "      <td>19.46110</td>\n",
       "      <td>70.8117</td>\n",
       "      <td>14.0629</td>\n",
       "      <td>2.30138</td>\n",
       "      <td>11.58830</td>\n",
       "      <td>...</td>\n",
       "      <td>104.0</td>\n",
       "      <td>NaN</td>\n",
       "      <td>82.4</td>\n",
       "      <td>Fall</td>\n",
       "      <td>1.0</td>\n",
       "      <td>35.0</td>\n",
       "      <td>50.0</td>\n",
       "      <td>Winter</td>\n",
       "      <td>ff8a2de4</td>\n",
       "      <td>1.0</td>\n",
       "    </tr>\n",
       "    <tr>\n",
       "      <th>3956</th>\n",
       "      <td>NaN</td>\n",
       "      <td>NaN</td>\n",
       "      <td>NaN</td>\n",
       "      <td>NaN</td>\n",
       "      <td>NaN</td>\n",
       "      <td>NaN</td>\n",
       "      <td>NaN</td>\n",
       "      <td>NaN</td>\n",
       "      <td>NaN</td>\n",
       "      <td>NaN</td>\n",
       "      <td>...</td>\n",
       "      <td>118.0</td>\n",
       "      <td>27.0</td>\n",
       "      <td>76.4</td>\n",
       "      <td>Winter</td>\n",
       "      <td>0.0</td>\n",
       "      <td>NaN</td>\n",
       "      <td>NaN</td>\n",
       "      <td>NaN</td>\n",
       "      <td>ffa9794a</td>\n",
       "      <td>NaN</td>\n",
       "    </tr>\n",
       "    <tr>\n",
       "      <th>3957</th>\n",
       "      <td>2.0</td>\n",
       "      <td>4.41305</td>\n",
       "      <td>21.4438</td>\n",
       "      <td>1253.740</td>\n",
       "      <td>2005.99</td>\n",
       "      <td>20.48250</td>\n",
       "      <td>75.8033</td>\n",
       "      <td>14.8043</td>\n",
       "      <td>6.63952</td>\n",
       "      <td>33.99670</td>\n",
       "      <td>...</td>\n",
       "      <td>116.0</td>\n",
       "      <td>NaN</td>\n",
       "      <td>109.8</td>\n",
       "      <td>Fall</td>\n",
       "      <td>0.0</td>\n",
       "      <td>56.0</td>\n",
       "      <td>77.0</td>\n",
       "      <td>Winter</td>\n",
       "      <td>ffcd4dbd</td>\n",
       "      <td>1.0</td>\n",
       "    </tr>\n",
       "    <tr>\n",
       "      <th>3958</th>\n",
       "      <td>4.0</td>\n",
       "      <td>6.66168</td>\n",
       "      <td>12.2372</td>\n",
       "      <td>1414.340</td>\n",
       "      <td>2970.12</td>\n",
       "      <td>26.53230</td>\n",
       "      <td>92.9092</td>\n",
       "      <td>13.0684</td>\n",
       "      <td>-0.83117</td>\n",
       "      <td>-5.90917</td>\n",
       "      <td>...</td>\n",
       "      <td>113.0</td>\n",
       "      <td>NaN</td>\n",
       "      <td>87.0</td>\n",
       "      <td>Spring</td>\n",
       "      <td>1.0</td>\n",
       "      <td>33.0</td>\n",
       "      <td>47.0</td>\n",
       "      <td>Spring</td>\n",
       "      <td>ffed1dd5</td>\n",
       "      <td>0.0</td>\n",
       "    </tr>\n",
       "    <tr>\n",
       "      <th>3959</th>\n",
       "      <td>NaN</td>\n",
       "      <td>NaN</td>\n",
       "      <td>NaN</td>\n",
       "      <td>NaN</td>\n",
       "      <td>NaN</td>\n",
       "      <td>NaN</td>\n",
       "      <td>NaN</td>\n",
       "      <td>NaN</td>\n",
       "      <td>NaN</td>\n",
       "      <td>NaN</td>\n",
       "      <td>...</td>\n",
       "      <td>NaN</td>\n",
       "      <td>NaN</td>\n",
       "      <td>NaN</td>\n",
       "      <td>Spring</td>\n",
       "      <td>1.0</td>\n",
       "      <td>NaN</td>\n",
       "      <td>NaN</td>\n",
       "      <td>NaN</td>\n",
       "      <td>ffef538e</td>\n",
       "      <td>NaN</td>\n",
       "    </tr>\n",
       "  </tbody>\n",
       "</table>\n",
       "<p>3960 rows × 60 columns</p>\n",
       "</div>"
      ],
      "text/plain": [
       "      BIA-BIA_Activity_Level_num  BIA-BIA_BMC  BIA-BIA_BMI  BIA-BIA_BMR  \\\n",
       "0                            2.0      2.66855      16.8792      932.498   \n",
       "1                            2.0      2.57949      14.0371      936.656   \n",
       "2                            NaN          NaN          NaN          NaN   \n",
       "3                            3.0      3.84191      18.2943     1131.430   \n",
       "4                            NaN          NaN          NaN          NaN   \n",
       "...                          ...          ...          ...          ...   \n",
       "3955                         3.0      4.52277      16.3642     1206.880   \n",
       "3956                         NaN          NaN          NaN          NaN   \n",
       "3957                         2.0      4.41305      21.4438     1253.740   \n",
       "3958                         4.0      6.66168      12.2372     1414.340   \n",
       "3959                         NaN          NaN          NaN          NaN   \n",
       "\n",
       "      BIA-BIA_DEE  BIA-BIA_ECW  BIA-BIA_FFM  BIA-BIA_FFMI  BIA-BIA_FMI  \\\n",
       "0         1492.00      8.25598      41.5862       13.8177      3.06143   \n",
       "1         1498.65      6.01993      42.0291       12.8254      1.21172   \n",
       "2             NaN          NaN          NaN           NaN          NaN   \n",
       "3         1923.44     15.59250      62.7757       14.0740      4.22033   \n",
       "4             NaN          NaN          NaN           NaN          NaN   \n",
       "...           ...          ...          ...           ...          ...   \n",
       "3955      2051.70     19.46110      70.8117       14.0629      2.30138   \n",
       "3956          NaN          NaN          NaN           NaN          NaN   \n",
       "3957      2005.99     20.48250      75.8033       14.8043      6.63952   \n",
       "3958      2970.12     26.53230      92.9092       13.0684     -0.83117   \n",
       "3959          NaN          NaN          NaN           NaN          NaN   \n",
       "\n",
       "      BIA-BIA_Fat  ...  Physical-Systolic_BP  Physical-Waist_Circumference  \\\n",
       "0         9.21377  ...                   NaN                           NaN   \n",
       "1         3.97085  ...                 122.0                          22.0   \n",
       "2             NaN  ...                 117.0                           NaN   \n",
       "3        18.82430  ...                 117.0                           NaN   \n",
       "4             NaN  ...                   NaN                           NaN   \n",
       "...           ...  ...                   ...                           ...   \n",
       "3955     11.58830  ...                 104.0                           NaN   \n",
       "3956          NaN  ...                 118.0                          27.0   \n",
       "3957     33.99670  ...                 116.0                           NaN   \n",
       "3958     -5.90917  ...                 113.0                           NaN   \n",
       "3959          NaN  ...                   NaN                           NaN   \n",
       "\n",
       "      Physical-Weight  PreInt_EduHx-Season  \\\n",
       "0                50.8                 Fall   \n",
       "1                46.0               Summer   \n",
       "2                75.6               Summer   \n",
       "3                81.6               Winter   \n",
       "4                 NaN                  NaN   \n",
       "...               ...                  ...   \n",
       "3955             82.4                 Fall   \n",
       "3956             76.4               Winter   \n",
       "3957            109.8                 Fall   \n",
       "3958             87.0               Spring   \n",
       "3959              NaN               Spring   \n",
       "\n",
       "      PreInt_EduHx-computerinternet_hoursday  SDS-SDS_Total_Raw  \\\n",
       "0                                        3.0                NaN   \n",
       "1                                        0.0               46.0   \n",
       "2                                        2.0               38.0   \n",
       "3                                        0.0               31.0   \n",
       "4                                        NaN                NaN   \n",
       "...                                      ...                ...   \n",
       "3955                                     1.0               35.0   \n",
       "3956                                     0.0                NaN   \n",
       "3957                                     0.0               56.0   \n",
       "3958                                     1.0               33.0   \n",
       "3959                                     1.0                NaN   \n",
       "\n",
       "     SDS-SDS_Total_T  SDS-Season        id  sii  \n",
       "0                NaN         NaN  00008ff9  2.0  \n",
       "1               64.0        Fall  000fd460  0.0  \n",
       "2               54.0        Fall  00105258  0.0  \n",
       "3               45.0      Summer  00115b9f  1.0  \n",
       "4                NaN         NaN  0016bb22  NaN  \n",
       "...              ...         ...       ...  ...  \n",
       "3955            50.0      Winter  ff8a2de4  1.0  \n",
       "3956             NaN         NaN  ffa9794a  NaN  \n",
       "3957            77.0      Winter  ffcd4dbd  1.0  \n",
       "3958            47.0      Spring  ffed1dd5  0.0  \n",
       "3959             NaN         NaN  ffef538e  NaN  \n",
       "\n",
       "[3960 rows x 60 columns]"
      ]
     },
     "execution_count": 15,
     "metadata": {},
     "output_type": "execute_result"
    }
   ],
   "source": [
    "train_df"
   ]
  },
  {
   "cell_type": "markdown",
   "id": "b795f3c8",
   "metadata": {
    "papermill": {
     "duration": 0.02626,
     "end_time": "2024-11-11T16:02:35.139926",
     "exception": false,
     "start_time": "2024-11-11T16:02:35.113666",
     "status": "completed"
    },
    "tags": []
   },
   "source": [
    "## Check for Duplicate Data"
   ]
  },
  {
   "cell_type": "code",
   "execution_count": 16,
   "id": "75067731",
   "metadata": {
    "execution": {
     "iopub.execute_input": "2024-11-11T16:02:35.194859Z",
     "iopub.status.busy": "2024-11-11T16:02:35.194430Z",
     "iopub.status.idle": "2024-11-11T16:02:35.223299Z",
     "shell.execute_reply": "2024-11-11T16:02:35.222062Z"
    },
    "papermill": {
     "duration": 0.05935,
     "end_time": "2024-11-11T16:02:35.226008",
     "exception": false,
     "start_time": "2024-11-11T16:02:35.166658",
     "status": "completed"
    },
    "tags": []
   },
   "outputs": [
    {
     "data": {
      "text/plain": [
       "0"
      ]
     },
     "execution_count": 16,
     "metadata": {},
     "output_type": "execute_result"
    }
   ],
   "source": [
    "train_df.duplicated().sum()"
   ]
  },
  {
   "cell_type": "markdown",
   "id": "256a6dba",
   "metadata": {
    "papermill": {
     "duration": 0.026529,
     "end_time": "2024-11-11T16:02:35.280078",
     "exception": false,
     "start_time": "2024-11-11T16:02:35.253549",
     "status": "completed"
    },
    "tags": []
   },
   "source": [
    "There are no duplicates in this data."
   ]
  },
  {
   "cell_type": "markdown",
   "id": "8b993480",
   "metadata": {
    "papermill": {
     "duration": 0.026824,
     "end_time": "2024-11-11T16:02:35.333428",
     "exception": false,
     "start_time": "2024-11-11T16:02:35.306604",
     "status": "completed"
    },
    "tags": []
   },
   "source": [
    "## Missing Values"
   ]
  },
  {
   "cell_type": "code",
   "execution_count": 17,
   "id": "cebf869a",
   "metadata": {
    "execution": {
     "iopub.execute_input": "2024-11-11T16:02:35.388769Z",
     "iopub.status.busy": "2024-11-11T16:02:35.388315Z",
     "iopub.status.idle": "2024-11-11T16:02:35.424763Z",
     "shell.execute_reply": "2024-11-11T16:02:35.423608Z"
    },
    "papermill": {
     "duration": 0.067248,
     "end_time": "2024-11-11T16:02:35.427373",
     "exception": false,
     "start_time": "2024-11-11T16:02:35.360125",
     "status": "completed"
    },
    "tags": []
   },
   "outputs": [
    {
     "data": {
      "text/html": [
       "<div>\n",
       "<style scoped>\n",
       "    .dataframe tbody tr th:only-of-type {\n",
       "        vertical-align: middle;\n",
       "    }\n",
       "\n",
       "    .dataframe tbody tr th {\n",
       "        vertical-align: top;\n",
       "    }\n",
       "\n",
       "    .dataframe thead th {\n",
       "        text-align: right;\n",
       "    }\n",
       "</style>\n",
       "<table border=\"1\" class=\"dataframe\">\n",
       "  <thead>\n",
       "    <tr style=\"text-align: right;\">\n",
       "      <th></th>\n",
       "      <th>BIA-BIA_Activity_Level_num</th>\n",
       "      <th>BIA-BIA_BMC</th>\n",
       "      <th>BIA-BIA_BMI</th>\n",
       "      <th>BIA-BIA_BMR</th>\n",
       "      <th>BIA-BIA_DEE</th>\n",
       "      <th>BIA-BIA_ECW</th>\n",
       "      <th>BIA-BIA_FFM</th>\n",
       "      <th>BIA-BIA_FFMI</th>\n",
       "      <th>BIA-BIA_FMI</th>\n",
       "      <th>BIA-BIA_Fat</th>\n",
       "      <th>...</th>\n",
       "      <th>Physical-Systolic_BP</th>\n",
       "      <th>Physical-Waist_Circumference</th>\n",
       "      <th>Physical-Weight</th>\n",
       "      <th>PreInt_EduHx-Season</th>\n",
       "      <th>PreInt_EduHx-computerinternet_hoursday</th>\n",
       "      <th>SDS-SDS_Total_Raw</th>\n",
       "      <th>SDS-SDS_Total_T</th>\n",
       "      <th>SDS-Season</th>\n",
       "      <th>id</th>\n",
       "      <th>sii</th>\n",
       "    </tr>\n",
       "  </thead>\n",
       "  <tbody>\n",
       "    <tr>\n",
       "      <th>0</th>\n",
       "      <td>False</td>\n",
       "      <td>False</td>\n",
       "      <td>False</td>\n",
       "      <td>False</td>\n",
       "      <td>False</td>\n",
       "      <td>False</td>\n",
       "      <td>False</td>\n",
       "      <td>False</td>\n",
       "      <td>False</td>\n",
       "      <td>False</td>\n",
       "      <td>...</td>\n",
       "      <td>True</td>\n",
       "      <td>True</td>\n",
       "      <td>False</td>\n",
       "      <td>False</td>\n",
       "      <td>False</td>\n",
       "      <td>True</td>\n",
       "      <td>True</td>\n",
       "      <td>True</td>\n",
       "      <td>False</td>\n",
       "      <td>False</td>\n",
       "    </tr>\n",
       "    <tr>\n",
       "      <th>1</th>\n",
       "      <td>False</td>\n",
       "      <td>False</td>\n",
       "      <td>False</td>\n",
       "      <td>False</td>\n",
       "      <td>False</td>\n",
       "      <td>False</td>\n",
       "      <td>False</td>\n",
       "      <td>False</td>\n",
       "      <td>False</td>\n",
       "      <td>False</td>\n",
       "      <td>...</td>\n",
       "      <td>False</td>\n",
       "      <td>False</td>\n",
       "      <td>False</td>\n",
       "      <td>False</td>\n",
       "      <td>False</td>\n",
       "      <td>False</td>\n",
       "      <td>False</td>\n",
       "      <td>False</td>\n",
       "      <td>False</td>\n",
       "      <td>False</td>\n",
       "    </tr>\n",
       "    <tr>\n",
       "      <th>2</th>\n",
       "      <td>True</td>\n",
       "      <td>True</td>\n",
       "      <td>True</td>\n",
       "      <td>True</td>\n",
       "      <td>True</td>\n",
       "      <td>True</td>\n",
       "      <td>True</td>\n",
       "      <td>True</td>\n",
       "      <td>True</td>\n",
       "      <td>True</td>\n",
       "      <td>...</td>\n",
       "      <td>False</td>\n",
       "      <td>True</td>\n",
       "      <td>False</td>\n",
       "      <td>False</td>\n",
       "      <td>False</td>\n",
       "      <td>False</td>\n",
       "      <td>False</td>\n",
       "      <td>False</td>\n",
       "      <td>False</td>\n",
       "      <td>False</td>\n",
       "    </tr>\n",
       "    <tr>\n",
       "      <th>3</th>\n",
       "      <td>False</td>\n",
       "      <td>False</td>\n",
       "      <td>False</td>\n",
       "      <td>False</td>\n",
       "      <td>False</td>\n",
       "      <td>False</td>\n",
       "      <td>False</td>\n",
       "      <td>False</td>\n",
       "      <td>False</td>\n",
       "      <td>False</td>\n",
       "      <td>...</td>\n",
       "      <td>False</td>\n",
       "      <td>True</td>\n",
       "      <td>False</td>\n",
       "      <td>False</td>\n",
       "      <td>False</td>\n",
       "      <td>False</td>\n",
       "      <td>False</td>\n",
       "      <td>False</td>\n",
       "      <td>False</td>\n",
       "      <td>False</td>\n",
       "    </tr>\n",
       "    <tr>\n",
       "      <th>4</th>\n",
       "      <td>True</td>\n",
       "      <td>True</td>\n",
       "      <td>True</td>\n",
       "      <td>True</td>\n",
       "      <td>True</td>\n",
       "      <td>True</td>\n",
       "      <td>True</td>\n",
       "      <td>True</td>\n",
       "      <td>True</td>\n",
       "      <td>True</td>\n",
       "      <td>...</td>\n",
       "      <td>True</td>\n",
       "      <td>True</td>\n",
       "      <td>True</td>\n",
       "      <td>True</td>\n",
       "      <td>True</td>\n",
       "      <td>True</td>\n",
       "      <td>True</td>\n",
       "      <td>True</td>\n",
       "      <td>False</td>\n",
       "      <td>True</td>\n",
       "    </tr>\n",
       "    <tr>\n",
       "      <th>...</th>\n",
       "      <td>...</td>\n",
       "      <td>...</td>\n",
       "      <td>...</td>\n",
       "      <td>...</td>\n",
       "      <td>...</td>\n",
       "      <td>...</td>\n",
       "      <td>...</td>\n",
       "      <td>...</td>\n",
       "      <td>...</td>\n",
       "      <td>...</td>\n",
       "      <td>...</td>\n",
       "      <td>...</td>\n",
       "      <td>...</td>\n",
       "      <td>...</td>\n",
       "      <td>...</td>\n",
       "      <td>...</td>\n",
       "      <td>...</td>\n",
       "      <td>...</td>\n",
       "      <td>...</td>\n",
       "      <td>...</td>\n",
       "      <td>...</td>\n",
       "    </tr>\n",
       "    <tr>\n",
       "      <th>3955</th>\n",
       "      <td>False</td>\n",
       "      <td>False</td>\n",
       "      <td>False</td>\n",
       "      <td>False</td>\n",
       "      <td>False</td>\n",
       "      <td>False</td>\n",
       "      <td>False</td>\n",
       "      <td>False</td>\n",
       "      <td>False</td>\n",
       "      <td>False</td>\n",
       "      <td>...</td>\n",
       "      <td>False</td>\n",
       "      <td>True</td>\n",
       "      <td>False</td>\n",
       "      <td>False</td>\n",
       "      <td>False</td>\n",
       "      <td>False</td>\n",
       "      <td>False</td>\n",
       "      <td>False</td>\n",
       "      <td>False</td>\n",
       "      <td>False</td>\n",
       "    </tr>\n",
       "    <tr>\n",
       "      <th>3956</th>\n",
       "      <td>True</td>\n",
       "      <td>True</td>\n",
       "      <td>True</td>\n",
       "      <td>True</td>\n",
       "      <td>True</td>\n",
       "      <td>True</td>\n",
       "      <td>True</td>\n",
       "      <td>True</td>\n",
       "      <td>True</td>\n",
       "      <td>True</td>\n",
       "      <td>...</td>\n",
       "      <td>False</td>\n",
       "      <td>False</td>\n",
       "      <td>False</td>\n",
       "      <td>False</td>\n",
       "      <td>False</td>\n",
       "      <td>True</td>\n",
       "      <td>True</td>\n",
       "      <td>True</td>\n",
       "      <td>False</td>\n",
       "      <td>True</td>\n",
       "    </tr>\n",
       "    <tr>\n",
       "      <th>3957</th>\n",
       "      <td>False</td>\n",
       "      <td>False</td>\n",
       "      <td>False</td>\n",
       "      <td>False</td>\n",
       "      <td>False</td>\n",
       "      <td>False</td>\n",
       "      <td>False</td>\n",
       "      <td>False</td>\n",
       "      <td>False</td>\n",
       "      <td>False</td>\n",
       "      <td>...</td>\n",
       "      <td>False</td>\n",
       "      <td>True</td>\n",
       "      <td>False</td>\n",
       "      <td>False</td>\n",
       "      <td>False</td>\n",
       "      <td>False</td>\n",
       "      <td>False</td>\n",
       "      <td>False</td>\n",
       "      <td>False</td>\n",
       "      <td>False</td>\n",
       "    </tr>\n",
       "    <tr>\n",
       "      <th>3958</th>\n",
       "      <td>False</td>\n",
       "      <td>False</td>\n",
       "      <td>False</td>\n",
       "      <td>False</td>\n",
       "      <td>False</td>\n",
       "      <td>False</td>\n",
       "      <td>False</td>\n",
       "      <td>False</td>\n",
       "      <td>False</td>\n",
       "      <td>False</td>\n",
       "      <td>...</td>\n",
       "      <td>False</td>\n",
       "      <td>True</td>\n",
       "      <td>False</td>\n",
       "      <td>False</td>\n",
       "      <td>False</td>\n",
       "      <td>False</td>\n",
       "      <td>False</td>\n",
       "      <td>False</td>\n",
       "      <td>False</td>\n",
       "      <td>False</td>\n",
       "    </tr>\n",
       "    <tr>\n",
       "      <th>3959</th>\n",
       "      <td>True</td>\n",
       "      <td>True</td>\n",
       "      <td>True</td>\n",
       "      <td>True</td>\n",
       "      <td>True</td>\n",
       "      <td>True</td>\n",
       "      <td>True</td>\n",
       "      <td>True</td>\n",
       "      <td>True</td>\n",
       "      <td>True</td>\n",
       "      <td>...</td>\n",
       "      <td>True</td>\n",
       "      <td>True</td>\n",
       "      <td>True</td>\n",
       "      <td>False</td>\n",
       "      <td>False</td>\n",
       "      <td>True</td>\n",
       "      <td>True</td>\n",
       "      <td>True</td>\n",
       "      <td>False</td>\n",
       "      <td>True</td>\n",
       "    </tr>\n",
       "  </tbody>\n",
       "</table>\n",
       "<p>3960 rows × 60 columns</p>\n",
       "</div>"
      ],
      "text/plain": [
       "      BIA-BIA_Activity_Level_num  BIA-BIA_BMC  BIA-BIA_BMI  BIA-BIA_BMR  \\\n",
       "0                          False        False        False        False   \n",
       "1                          False        False        False        False   \n",
       "2                           True         True         True         True   \n",
       "3                          False        False        False        False   \n",
       "4                           True         True         True         True   \n",
       "...                          ...          ...          ...          ...   \n",
       "3955                       False        False        False        False   \n",
       "3956                        True         True         True         True   \n",
       "3957                       False        False        False        False   \n",
       "3958                       False        False        False        False   \n",
       "3959                        True         True         True         True   \n",
       "\n",
       "      BIA-BIA_DEE  BIA-BIA_ECW  BIA-BIA_FFM  BIA-BIA_FFMI  BIA-BIA_FMI  \\\n",
       "0           False        False        False         False        False   \n",
       "1           False        False        False         False        False   \n",
       "2            True         True         True          True         True   \n",
       "3           False        False        False         False        False   \n",
       "4            True         True         True          True         True   \n",
       "...           ...          ...          ...           ...          ...   \n",
       "3955        False        False        False         False        False   \n",
       "3956         True         True         True          True         True   \n",
       "3957        False        False        False         False        False   \n",
       "3958        False        False        False         False        False   \n",
       "3959         True         True         True          True         True   \n",
       "\n",
       "      BIA-BIA_Fat  ...  Physical-Systolic_BP  Physical-Waist_Circumference  \\\n",
       "0           False  ...                  True                          True   \n",
       "1           False  ...                 False                         False   \n",
       "2            True  ...                 False                          True   \n",
       "3           False  ...                 False                          True   \n",
       "4            True  ...                  True                          True   \n",
       "...           ...  ...                   ...                           ...   \n",
       "3955        False  ...                 False                          True   \n",
       "3956         True  ...                 False                         False   \n",
       "3957        False  ...                 False                          True   \n",
       "3958        False  ...                 False                          True   \n",
       "3959         True  ...                  True                          True   \n",
       "\n",
       "      Physical-Weight  PreInt_EduHx-Season  \\\n",
       "0               False                False   \n",
       "1               False                False   \n",
       "2               False                False   \n",
       "3               False                False   \n",
       "4                True                 True   \n",
       "...               ...                  ...   \n",
       "3955            False                False   \n",
       "3956            False                False   \n",
       "3957            False                False   \n",
       "3958            False                False   \n",
       "3959             True                False   \n",
       "\n",
       "      PreInt_EduHx-computerinternet_hoursday  SDS-SDS_Total_Raw  \\\n",
       "0                                      False               True   \n",
       "1                                      False              False   \n",
       "2                                      False              False   \n",
       "3                                      False              False   \n",
       "4                                       True               True   \n",
       "...                                      ...                ...   \n",
       "3955                                   False              False   \n",
       "3956                                   False               True   \n",
       "3957                                   False              False   \n",
       "3958                                   False              False   \n",
       "3959                                   False               True   \n",
       "\n",
       "      SDS-SDS_Total_T  SDS-Season     id    sii  \n",
       "0                True        True  False  False  \n",
       "1               False       False  False  False  \n",
       "2               False       False  False  False  \n",
       "3               False       False  False  False  \n",
       "4                True        True  False   True  \n",
       "...               ...         ...    ...    ...  \n",
       "3955            False       False  False  False  \n",
       "3956             True        True  False   True  \n",
       "3957            False       False  False  False  \n",
       "3958            False       False  False  False  \n",
       "3959             True        True  False   True  \n",
       "\n",
       "[3960 rows x 60 columns]"
      ]
     },
     "execution_count": 17,
     "metadata": {},
     "output_type": "execute_result"
    }
   ],
   "source": [
    "train_df.isnull()"
   ]
  },
  {
   "cell_type": "code",
   "execution_count": 18,
   "id": "26847c1f",
   "metadata": {
    "execution": {
     "iopub.execute_input": "2024-11-11T16:02:35.484175Z",
     "iopub.status.busy": "2024-11-11T16:02:35.483726Z",
     "iopub.status.idle": "2024-11-11T16:02:35.499365Z",
     "shell.execute_reply": "2024-11-11T16:02:35.498217Z"
    },
    "papermill": {
     "duration": 0.047485,
     "end_time": "2024-11-11T16:02:35.502216",
     "exception": false,
     "start_time": "2024-11-11T16:02:35.454731",
     "status": "completed"
    },
    "tags": []
   },
   "outputs": [
    {
     "data": {
      "text/plain": [
       "BIA-BIA_Activity_Level_num                1969\n",
       "BIA-BIA_BMC                               1969\n",
       "BIA-BIA_BMI                               1969\n",
       "BIA-BIA_BMR                               1969\n",
       "BIA-BIA_DEE                               1969\n",
       "BIA-BIA_ECW                               1969\n",
       "BIA-BIA_FFM                               1969\n",
       "BIA-BIA_FFMI                              1969\n",
       "BIA-BIA_FMI                               1969\n",
       "BIA-BIA_Fat                               1969\n",
       "BIA-BIA_Frame_num                         1969\n",
       "BIA-BIA_ICW                               1969\n",
       "BIA-BIA_LDM                               1969\n",
       "BIA-BIA_LST                               1969\n",
       "BIA-BIA_SMM                               1969\n",
       "BIA-BIA_TBW                               1969\n",
       "BIA-Season                                1815\n",
       "Basic_Demos-Age                              0\n",
       "Basic_Demos-Enroll_Season                    0\n",
       "Basic_Demos-Sex                              0\n",
       "CGAS-CGAS_Score                           1539\n",
       "CGAS-Season                               1405\n",
       "FGC-FGC_CU                                1638\n",
       "FGC-FGC_CU_Zone                           1678\n",
       "FGC-FGC_GSD                               2886\n",
       "FGC-FGC_GSD_Zone                          2897\n",
       "FGC-FGC_GSND                              2886\n",
       "FGC-FGC_GSND_Zone                         2898\n",
       "FGC-FGC_PU                                1650\n",
       "FGC-FGC_PU_Zone                           1689\n",
       "FGC-FGC_SRL                               1655\n",
       "FGC-FGC_SRL_Zone                          1693\n",
       "FGC-FGC_SRR                               1653\n",
       "FGC-FGC_SRR_Zone                          1691\n",
       "FGC-FGC_TL                                1636\n",
       "FGC-FGC_TL_Zone                           1675\n",
       "FGC-Season                                 614\n",
       "Fitness_Endurance-Max_Stage               3217\n",
       "Fitness_Endurance-Season                  2652\n",
       "Fitness_Endurance-Time_Mins               3220\n",
       "Fitness_Endurance-Time_Sec                3220\n",
       "PAQ_A-PAQ_A_Total                         3485\n",
       "PAQ_A-Season                              3485\n",
       "PAQ_C-PAQ_C_Total                         2239\n",
       "PAQ_C-Season                              2239\n",
       "Physical-BMI                               938\n",
       "Physical-Diastolic_BP                     1006\n",
       "Physical-HeartRate                         993\n",
       "Physical-Height                            933\n",
       "Physical-Season                            650\n",
       "Physical-Systolic_BP                      1006\n",
       "Physical-Waist_Circumference              3062\n",
       "Physical-Weight                            884\n",
       "PreInt_EduHx-Season                        420\n",
       "PreInt_EduHx-computerinternet_hoursday     659\n",
       "SDS-SDS_Total_Raw                         1351\n",
       "SDS-SDS_Total_T                           1354\n",
       "SDS-Season                                1342\n",
       "id                                           0\n",
       "sii                                       1224\n",
       "dtype: int64"
      ]
     },
     "execution_count": 18,
     "metadata": {},
     "output_type": "execute_result"
    }
   ],
   "source": [
    "train_df.isnull().sum()"
   ]
  },
  {
   "cell_type": "code",
   "execution_count": 19,
   "id": "81e8734a",
   "metadata": {
    "execution": {
     "iopub.execute_input": "2024-11-11T16:02:35.559842Z",
     "iopub.status.busy": "2024-11-11T16:02:35.559402Z",
     "iopub.status.idle": "2024-11-11T16:02:35.642621Z",
     "shell.execute_reply": "2024-11-11T16:02:35.641454Z"
    },
    "papermill": {
     "duration": 0.114779,
     "end_time": "2024-11-11T16:02:35.645336",
     "exception": false,
     "start_time": "2024-11-11T16:02:35.530557",
     "status": "completed"
    },
    "tags": []
   },
   "outputs": [
    {
     "data": {
      "text/html": [
       "<div>\n",
       "<style scoped>\n",
       "    .dataframe tbody tr th:only-of-type {\n",
       "        vertical-align: middle;\n",
       "    }\n",
       "\n",
       "    .dataframe tbody tr th {\n",
       "        vertical-align: top;\n",
       "    }\n",
       "\n",
       "    .dataframe thead th {\n",
       "        text-align: right;\n",
       "    }\n",
       "</style>\n",
       "<table border=\"1\" class=\"dataframe\">\n",
       "  <thead>\n",
       "    <tr style=\"text-align: right;\">\n",
       "      <th></th>\n",
       "      <th>BIA-BIA_Activity_Level_num</th>\n",
       "      <th>BIA-BIA_BMC</th>\n",
       "      <th>BIA-BIA_BMI</th>\n",
       "      <th>BIA-BIA_BMR</th>\n",
       "      <th>BIA-BIA_DEE</th>\n",
       "      <th>BIA-BIA_ECW</th>\n",
       "      <th>BIA-BIA_FFM</th>\n",
       "      <th>BIA-BIA_FFMI</th>\n",
       "      <th>BIA-BIA_FMI</th>\n",
       "      <th>BIA-BIA_Fat</th>\n",
       "      <th>...</th>\n",
       "      <th>Physical-Systolic_BP</th>\n",
       "      <th>Physical-Waist_Circumference</th>\n",
       "      <th>Physical-Weight</th>\n",
       "      <th>PreInt_EduHx-Season</th>\n",
       "      <th>PreInt_EduHx-computerinternet_hoursday</th>\n",
       "      <th>SDS-SDS_Total_Raw</th>\n",
       "      <th>SDS-SDS_Total_T</th>\n",
       "      <th>SDS-Season</th>\n",
       "      <th>id</th>\n",
       "      <th>sii</th>\n",
       "    </tr>\n",
       "  </thead>\n",
       "  <tbody>\n",
       "    <tr>\n",
       "      <th>0</th>\n",
       "      <td>The amount of missing records is:</td>\n",
       "      <td>The amount of missing records is:</td>\n",
       "      <td>The amount of missing records is:</td>\n",
       "      <td>The amount of missing records is:</td>\n",
       "      <td>The amount of missing records is:</td>\n",
       "      <td>The amount of missing records is:</td>\n",
       "      <td>The amount of missing records is:</td>\n",
       "      <td>The amount of missing records is:</td>\n",
       "      <td>The amount of missing records is:</td>\n",
       "      <td>The amount of missing records is:</td>\n",
       "      <td>...</td>\n",
       "      <td>The amount of missing records is:</td>\n",
       "      <td>The amount of missing records is:</td>\n",
       "      <td>The amount of missing records is:</td>\n",
       "      <td>The amount of missing records is:</td>\n",
       "      <td>The amount of missing records is:</td>\n",
       "      <td>The amount of missing records is:</td>\n",
       "      <td>The amount of missing records is:</td>\n",
       "      <td>The amount of missing records is:</td>\n",
       "      <td>The amount of missing records is:</td>\n",
       "      <td>The amount of missing records is:</td>\n",
       "    </tr>\n",
       "    <tr>\n",
       "      <th>1</th>\n",
       "      <td>1969</td>\n",
       "      <td>1969</td>\n",
       "      <td>1969</td>\n",
       "      <td>1969</td>\n",
       "      <td>1969</td>\n",
       "      <td>1969</td>\n",
       "      <td>1969</td>\n",
       "      <td>1969</td>\n",
       "      <td>1969</td>\n",
       "      <td>1969</td>\n",
       "      <td>...</td>\n",
       "      <td>1006</td>\n",
       "      <td>3062</td>\n",
       "      <td>884</td>\n",
       "      <td>420</td>\n",
       "      <td>659</td>\n",
       "      <td>1351</td>\n",
       "      <td>1354</td>\n",
       "      <td>1342</td>\n",
       "      <td>0</td>\n",
       "      <td>1224</td>\n",
       "    </tr>\n",
       "  </tbody>\n",
       "</table>\n",
       "<p>2 rows × 60 columns</p>\n",
       "</div>"
      ],
      "text/plain": [
       "           BIA-BIA_Activity_Level_num                         BIA-BIA_BMC  \\\n",
       "0  The amount of missing records is:   The amount of missing records is:    \n",
       "1                                1969                                1969   \n",
       "\n",
       "                          BIA-BIA_BMI                         BIA-BIA_BMR  \\\n",
       "0  The amount of missing records is:   The amount of missing records is:    \n",
       "1                                1969                                1969   \n",
       "\n",
       "                          BIA-BIA_DEE                         BIA-BIA_ECW  \\\n",
       "0  The amount of missing records is:   The amount of missing records is:    \n",
       "1                                1969                                1969   \n",
       "\n",
       "                          BIA-BIA_FFM                        BIA-BIA_FFMI  \\\n",
       "0  The amount of missing records is:   The amount of missing records is:    \n",
       "1                                1969                                1969   \n",
       "\n",
       "                          BIA-BIA_FMI                         BIA-BIA_Fat  \\\n",
       "0  The amount of missing records is:   The amount of missing records is:    \n",
       "1                                1969                                1969   \n",
       "\n",
       "   ...                Physical-Systolic_BP  \\\n",
       "0  ...  The amount of missing records is:    \n",
       "1  ...                                1006   \n",
       "\n",
       "         Physical-Waist_Circumference                     Physical-Weight  \\\n",
       "0  The amount of missing records is:   The amount of missing records is:    \n",
       "1                                3062                                 884   \n",
       "\n",
       "                  PreInt_EduHx-Season PreInt_EduHx-computerinternet_hoursday  \\\n",
       "0  The amount of missing records is:      The amount of missing records is:    \n",
       "1                                 420                                    659   \n",
       "\n",
       "                    SDS-SDS_Total_Raw                     SDS-SDS_Total_T  \\\n",
       "0  The amount of missing records is:   The amount of missing records is:    \n",
       "1                                1351                                1354   \n",
       "\n",
       "                           SDS-Season                                  id  \\\n",
       "0  The amount of missing records is:   The amount of missing records is:    \n",
       "1                                1342                                   0   \n",
       "\n",
       "                                  sii  \n",
       "0  The amount of missing records is:   \n",
       "1                                1224  \n",
       "\n",
       "[2 rows x 60 columns]"
      ]
     },
     "execution_count": 19,
     "metadata": {},
     "output_type": "execute_result"
    }
   ],
   "source": [
    "# Calculate missing values by columns\n",
    "\n",
    "def check_missing_values(row):\n",
    "\n",
    "    \"\"\" functions that check and verifies if there are missing values in dataframe \"\"\"\n",
    "\n",
    "    counter = 0\n",
    "    for element in row:\n",
    "        if element == True:\n",
    "            counter+=1\n",
    "\n",
    "    return (\"The amount of missing records is: \", counter)\n",
    "\n",
    "train_df.isnull().apply(lambda x: check_missing_values(x))"
   ]
  },
  {
   "cell_type": "code",
   "execution_count": 20,
   "id": "54e87de2",
   "metadata": {
    "execution": {
     "iopub.execute_input": "2024-11-11T16:02:35.705850Z",
     "iopub.status.busy": "2024-11-11T16:02:35.705415Z",
     "iopub.status.idle": "2024-11-11T16:02:35.815092Z",
     "shell.execute_reply": "2024-11-11T16:02:35.813967Z"
    },
    "papermill": {
     "duration": 0.142495,
     "end_time": "2024-11-11T16:02:35.817764",
     "exception": false,
     "start_time": "2024-11-11T16:02:35.675269",
     "status": "completed"
    },
    "tags": []
   },
   "outputs": [
    {
     "data": {
      "text/plain": [
       "0       (The amount of missing records is: , 19)\n",
       "1       (The amount of missing records is: , 12)\n",
       "2       (The amount of missing records is: , 20)\n",
       "3        (The amount of missing records is: , 7)\n",
       "4       (The amount of missing records is: , 53)\n",
       "                          ...                   \n",
       "3955     (The amount of missing records is: , 7)\n",
       "3956    (The amount of missing records is: , 32)\n",
       "3957     (The amount of missing records is: , 7)\n",
       "3958    (The amount of missing records is: , 21)\n",
       "3959    (The amount of missing records is: , 52)\n",
       "Length: 3960, dtype: object"
      ]
     },
     "execution_count": 20,
     "metadata": {},
     "output_type": "execute_result"
    }
   ],
   "source": [
    "# Calculate missing values in every record\n",
    "\n",
    "train_df.isnull().apply(lambda x: check_missing_values(x), axis=1)"
   ]
  },
  {
   "cell_type": "markdown",
   "id": "899dea46",
   "metadata": {
    "papermill": {
     "duration": 0.027488,
     "end_time": "2024-11-11T16:02:35.873302",
     "exception": false,
     "start_time": "2024-11-11T16:02:35.845814",
     "status": "completed"
    },
    "tags": []
   },
   "source": [
    "## Encoding Seasons as Numbers"
   ]
  },
  {
   "cell_type": "code",
   "execution_count": 21,
   "id": "33c7b508",
   "metadata": {
    "execution": {
     "iopub.execute_input": "2024-11-11T16:02:35.931848Z",
     "iopub.status.busy": "2024-11-11T16:02:35.931444Z",
     "iopub.status.idle": "2024-11-11T16:02:35.938010Z",
     "shell.execute_reply": "2024-11-11T16:02:35.936942Z"
    },
    "papermill": {
     "duration": 0.039858,
     "end_time": "2024-11-11T16:02:35.941074",
     "exception": false,
     "start_time": "2024-11-11T16:02:35.901216",
     "status": "completed"
    },
    "tags": []
   },
   "outputs": [
    {
     "name": "stdout",
     "output_type": "stream",
     "text": [
      "['Fall' 'Summer' 'Winter' 'Spring']\n"
     ]
    }
   ],
   "source": [
    "# Check for unique values\n",
    "\n",
    "print(train_df['Basic_Demos-Enroll_Season'].unique())"
   ]
  },
  {
   "cell_type": "code",
   "execution_count": 22,
   "id": "a6025fef",
   "metadata": {
    "execution": {
     "iopub.execute_input": "2024-11-11T16:02:35.998746Z",
     "iopub.status.busy": "2024-11-11T16:02:35.998344Z",
     "iopub.status.idle": "2024-11-11T16:02:36.004793Z",
     "shell.execute_reply": "2024-11-11T16:02:36.003672Z"
    },
    "papermill": {
     "duration": 0.038575,
     "end_time": "2024-11-11T16:02:36.007632",
     "exception": false,
     "start_time": "2024-11-11T16:02:35.969057",
     "status": "completed"
    },
    "tags": []
   },
   "outputs": [
    {
     "name": "stdout",
     "output_type": "stream",
     "text": [
      "Columns containing 'Season': ['BIA-Season', 'Basic_Demos-Enroll_Season', 'CGAS-Season', 'FGC-Season', 'Fitness_Endurance-Season', 'PAQ_A-Season', 'PAQ_C-Season', 'Physical-Season', 'PreInt_EduHx-Season', 'SDS-Season']\n"
     ]
    }
   ],
   "source": [
    "# Display columns containing 'Season'\n",
    "\n",
    "season_columns = [col for col in train_df.columns if 'Season' in col]\n",
    "print(\"Columns containing 'Season':\", season_columns)"
   ]
  },
  {
   "cell_type": "code",
   "execution_count": 23,
   "id": "972abed6",
   "metadata": {
    "execution": {
     "iopub.execute_input": "2024-11-11T16:02:36.066992Z",
     "iopub.status.busy": "2024-11-11T16:02:36.066539Z",
     "iopub.status.idle": "2024-11-11T16:02:36.087709Z",
     "shell.execute_reply": "2024-11-11T16:02:36.086234Z"
    },
    "papermill": {
     "duration": 0.05441,
     "end_time": "2024-11-11T16:02:36.090579",
     "exception": false,
     "start_time": "2024-11-11T16:02:36.036169",
     "status": "completed"
    },
    "tags": []
   },
   "outputs": [],
   "source": [
    "season_mapping = {'Spring': 1, 'Summer': 2, 'Fall': 3, 'Winter': 4}\n",
    "\n",
    "for column in season_columns:\n",
    "    train_df[column] = train_df[column].map(season_mapping)"
   ]
  },
  {
   "cell_type": "code",
   "execution_count": 24,
   "id": "702e2b11",
   "metadata": {
    "execution": {
     "iopub.execute_input": "2024-11-11T16:02:36.149659Z",
     "iopub.status.busy": "2024-11-11T16:02:36.149226Z",
     "iopub.status.idle": "2024-11-11T16:02:36.160082Z",
     "shell.execute_reply": "2024-11-11T16:02:36.158501Z"
    },
    "papermill": {
     "duration": 0.043778,
     "end_time": "2024-11-11T16:02:36.162757",
     "exception": false,
     "start_time": "2024-11-11T16:02:36.118979",
     "status": "completed"
    },
    "tags": []
   },
   "outputs": [
    {
     "data": {
      "text/plain": [
       "sii\n",
       "0.0    1594\n",
       "1.0     730\n",
       "2.0     378\n",
       "3.0      34\n",
       "Name: count, dtype: int64"
      ]
     },
     "execution_count": 24,
     "metadata": {},
     "output_type": "execute_result"
    }
   ],
   "source": [
    "# target\n",
    "train_df[\"sii\"].value_counts()"
   ]
  },
  {
   "cell_type": "markdown",
   "id": "9aeac41d",
   "metadata": {
    "papermill": {
     "duration": 0.028489,
     "end_time": "2024-11-11T16:02:36.219668",
     "exception": false,
     "start_time": "2024-11-11T16:02:36.191179",
     "status": "completed"
    },
    "tags": []
   },
   "source": [
    "## Predict Missing Values"
   ]
  },
  {
   "cell_type": "code",
   "execution_count": 25,
   "id": "f393bdbc",
   "metadata": {
    "execution": {
     "iopub.execute_input": "2024-11-11T16:02:36.277995Z",
     "iopub.status.busy": "2024-11-11T16:02:36.277468Z",
     "iopub.status.idle": "2024-11-11T16:02:43.095389Z",
     "shell.execute_reply": "2024-11-11T16:02:43.094263Z"
    },
    "papermill": {
     "duration": 6.850268,
     "end_time": "2024-11-11T16:02:43.098309",
     "exception": false,
     "start_time": "2024-11-11T16:02:36.248041",
     "status": "completed"
    },
    "tags": []
   },
   "outputs": [],
   "source": [
    "# Impute missing values\n",
    "\n",
    "imputer = KNNImputer(n_neighbors=5, weights='distance', metric='nan_euclidean')\n",
    "numeric_cols = train_df.select_dtypes(include=['float64', 'int64']).columns\n",
    "imputed_data = imputer.fit_transform(train_df[numeric_cols])\n",
    "train_imputed = pd.DataFrame(imputed_data, columns=numeric_cols)\n",
    "\n",
    "# Convert the 'sii' column back to integers and ensure it stays between 0 and 3\n",
    "\n",
    "if 'sii' in numeric_cols:\n",
    "    train_imputed['sii'] = train_imputed['sii'].clip(lower=0, upper=3).round().astype(int)\n",
    "\n",
    "# Convert season_columns to integers\n",
    "\n",
    "for column in season_columns:\n",
    "    if column in train_imputed.columns:\n",
    "        train_imputed[column] = train_imputed[column].round().astype(int)\n",
    "\n",
    "# Retain other columns from the original DataFrame\n",
    "\n",
    "for col in train_df.columns:\n",
    "    if col not in numeric_cols:\n",
    "        train_imputed[col] = train_df[col]"
   ]
  },
  {
   "cell_type": "code",
   "execution_count": 26,
   "id": "f92082f4",
   "metadata": {
    "execution": {
     "iopub.execute_input": "2024-11-11T16:02:43.156985Z",
     "iopub.status.busy": "2024-11-11T16:02:43.156180Z",
     "iopub.status.idle": "2024-11-11T16:02:43.224221Z",
     "shell.execute_reply": "2024-11-11T16:02:43.222388Z"
    },
    "papermill": {
     "duration": 0.100373,
     "end_time": "2024-11-11T16:02:43.227036",
     "exception": false,
     "start_time": "2024-11-11T16:02:43.126663",
     "status": "completed"
    },
    "tags": []
   },
   "outputs": [
    {
     "data": {
      "text/html": [
       "<div>\n",
       "<style scoped>\n",
       "    .dataframe tbody tr th:only-of-type {\n",
       "        vertical-align: middle;\n",
       "    }\n",
       "\n",
       "    .dataframe tbody tr th {\n",
       "        vertical-align: top;\n",
       "    }\n",
       "\n",
       "    .dataframe thead th {\n",
       "        text-align: right;\n",
       "    }\n",
       "</style>\n",
       "<table border=\"1\" class=\"dataframe\">\n",
       "  <thead>\n",
       "    <tr style=\"text-align: right;\">\n",
       "      <th></th>\n",
       "      <th>BIA-BIA_Activity_Level_num</th>\n",
       "      <th>BIA-BIA_BMC</th>\n",
       "      <th>BIA-BIA_BMI</th>\n",
       "      <th>BIA-BIA_BMR</th>\n",
       "      <th>BIA-BIA_DEE</th>\n",
       "      <th>BIA-BIA_ECW</th>\n",
       "      <th>BIA-BIA_FFM</th>\n",
       "      <th>BIA-BIA_FFMI</th>\n",
       "      <th>BIA-BIA_FMI</th>\n",
       "      <th>BIA-BIA_Fat</th>\n",
       "      <th>...</th>\n",
       "      <th>Physical-Systolic_BP</th>\n",
       "      <th>Physical-Waist_Circumference</th>\n",
       "      <th>Physical-Weight</th>\n",
       "      <th>PreInt_EduHx-Season</th>\n",
       "      <th>PreInt_EduHx-computerinternet_hoursday</th>\n",
       "      <th>SDS-SDS_Total_Raw</th>\n",
       "      <th>SDS-SDS_Total_T</th>\n",
       "      <th>SDS-Season</th>\n",
       "      <th>sii</th>\n",
       "      <th>id</th>\n",
       "    </tr>\n",
       "  </thead>\n",
       "  <tbody>\n",
       "    <tr>\n",
       "      <th>0</th>\n",
       "      <td>The amount of missing records is:</td>\n",
       "      <td>The amount of missing records is:</td>\n",
       "      <td>The amount of missing records is:</td>\n",
       "      <td>The amount of missing records is:</td>\n",
       "      <td>The amount of missing records is:</td>\n",
       "      <td>The amount of missing records is:</td>\n",
       "      <td>The amount of missing records is:</td>\n",
       "      <td>The amount of missing records is:</td>\n",
       "      <td>The amount of missing records is:</td>\n",
       "      <td>The amount of missing records is:</td>\n",
       "      <td>...</td>\n",
       "      <td>The amount of missing records is:</td>\n",
       "      <td>The amount of missing records is:</td>\n",
       "      <td>The amount of missing records is:</td>\n",
       "      <td>The amount of missing records is:</td>\n",
       "      <td>The amount of missing records is:</td>\n",
       "      <td>The amount of missing records is:</td>\n",
       "      <td>The amount of missing records is:</td>\n",
       "      <td>The amount of missing records is:</td>\n",
       "      <td>The amount of missing records is:</td>\n",
       "      <td>The amount of missing records is:</td>\n",
       "    </tr>\n",
       "    <tr>\n",
       "      <th>1</th>\n",
       "      <td>0</td>\n",
       "      <td>0</td>\n",
       "      <td>0</td>\n",
       "      <td>0</td>\n",
       "      <td>0</td>\n",
       "      <td>0</td>\n",
       "      <td>0</td>\n",
       "      <td>0</td>\n",
       "      <td>0</td>\n",
       "      <td>0</td>\n",
       "      <td>...</td>\n",
       "      <td>0</td>\n",
       "      <td>0</td>\n",
       "      <td>0</td>\n",
       "      <td>0</td>\n",
       "      <td>0</td>\n",
       "      <td>0</td>\n",
       "      <td>0</td>\n",
       "      <td>0</td>\n",
       "      <td>0</td>\n",
       "      <td>0</td>\n",
       "    </tr>\n",
       "  </tbody>\n",
       "</table>\n",
       "<p>2 rows × 60 columns</p>\n",
       "</div>"
      ],
      "text/plain": [
       "           BIA-BIA_Activity_Level_num                         BIA-BIA_BMC  \\\n",
       "0  The amount of missing records is:   The amount of missing records is:    \n",
       "1                                   0                                   0   \n",
       "\n",
       "                          BIA-BIA_BMI                         BIA-BIA_BMR  \\\n",
       "0  The amount of missing records is:   The amount of missing records is:    \n",
       "1                                   0                                   0   \n",
       "\n",
       "                          BIA-BIA_DEE                         BIA-BIA_ECW  \\\n",
       "0  The amount of missing records is:   The amount of missing records is:    \n",
       "1                                   0                                   0   \n",
       "\n",
       "                          BIA-BIA_FFM                        BIA-BIA_FFMI  \\\n",
       "0  The amount of missing records is:   The amount of missing records is:    \n",
       "1                                   0                                   0   \n",
       "\n",
       "                          BIA-BIA_FMI                         BIA-BIA_Fat  \\\n",
       "0  The amount of missing records is:   The amount of missing records is:    \n",
       "1                                   0                                   0   \n",
       "\n",
       "   ...                Physical-Systolic_BP  \\\n",
       "0  ...  The amount of missing records is:    \n",
       "1  ...                                   0   \n",
       "\n",
       "         Physical-Waist_Circumference                     Physical-Weight  \\\n",
       "0  The amount of missing records is:   The amount of missing records is:    \n",
       "1                                   0                                   0   \n",
       "\n",
       "                  PreInt_EduHx-Season PreInt_EduHx-computerinternet_hoursday  \\\n",
       "0  The amount of missing records is:      The amount of missing records is:    \n",
       "1                                   0                                      0   \n",
       "\n",
       "                    SDS-SDS_Total_Raw                     SDS-SDS_Total_T  \\\n",
       "0  The amount of missing records is:   The amount of missing records is:    \n",
       "1                                   0                                   0   \n",
       "\n",
       "                           SDS-Season                                 sii  \\\n",
       "0  The amount of missing records is:   The amount of missing records is:    \n",
       "1                                   0                                   0   \n",
       "\n",
       "                                   id  \n",
       "0  The amount of missing records is:   \n",
       "1                                   0  \n",
       "\n",
       "[2 rows x 60 columns]"
      ]
     },
     "execution_count": 26,
     "metadata": {},
     "output_type": "execute_result"
    }
   ],
   "source": [
    "train_imputed.isnull().apply(lambda x: check_missing_values(x))"
   ]
  },
  {
   "cell_type": "markdown",
   "id": "dfd04404",
   "metadata": {
    "papermill": {
     "duration": 0.028616,
     "end_time": "2024-11-11T16:02:43.284250",
     "exception": false,
     "start_time": "2024-11-11T16:02:43.255634",
     "status": "completed"
    },
    "tags": []
   },
   "source": [
    "---"
   ]
  },
  {
   "cell_type": "markdown",
   "id": "624bb848",
   "metadata": {
    "papermill": {
     "duration": 0.028132,
     "end_time": "2024-11-11T16:02:43.340853",
     "exception": false,
     "start_time": "2024-11-11T16:02:43.312721",
     "status": "completed"
    },
    "tags": []
   },
   "source": [
    "## Feature Engineering\n",
    "\n",
    "\n",
    "### Add variables\n",
    "\n",
    "The dataset contains features related to physical characteristics (eg, BMI, Height, Weight), behavioral aspects (eg, internet usage), and fitness data (eg, endurance time)."
   ]
  },
  {
   "cell_type": "code",
   "execution_count": 27,
   "id": "0278f3f2",
   "metadata": {
    "execution": {
     "iopub.execute_input": "2024-11-11T16:02:43.401893Z",
     "iopub.status.busy": "2024-11-11T16:02:43.401418Z",
     "iopub.status.idle": "2024-11-11T16:02:43.411914Z",
     "shell.execute_reply": "2024-11-11T16:02:43.410580Z"
    },
    "papermill": {
     "duration": 0.045018,
     "end_time": "2024-11-11T16:02:43.414605",
     "exception": false,
     "start_time": "2024-11-11T16:02:43.369587",
     "status": "completed"
    },
    "tags": []
   },
   "outputs": [],
   "source": [
    "# Feature Engineering\n",
    "import pandas as pd\n",
    "\n",
    "def feature_engineering(df):\n",
    "    # Calculate new features\n",
    "    new_features = pd.DataFrame({\n",
    "        'BMI_Age': df['Physical-BMI'] * df['Basic_Demos-Age'],\n",
    "        'Internet_Hours_Age': df['PreInt_EduHx-computerinternet_hoursday'] * df['Basic_Demos-Age'],\n",
    "        'BMI_Internet_Hours': df['Physical-BMI'] * df['PreInt_EduHx-computerinternet_hoursday'],\n",
    "        'BFP_BMI': df['BIA-BIA_Fat'] / df['BIA-BIA_BMI'],\n",
    "        'FFMI_BFP': df['BIA-BIA_FFMI'] / df['BIA-BIA_Fat'],\n",
    "        'FMI_BFP': df['BIA-BIA_FMI'] / df['BIA-BIA_Fat'],\n",
    "        'LST_TBW': df['BIA-BIA_LST'] / df['BIA-BIA_TBW'],\n",
    "        'BFP_BMR': df['BIA-BIA_Fat'] * df['BIA-BIA_BMR'],\n",
    "        'BFP_DEE': df['BIA-BIA_Fat'] * df['BIA-BIA_DEE'],\n",
    "        'BMR_Weight': df['BIA-BIA_BMR'] / df['Physical-Weight'],\n",
    "        'DEE_Weight': df['BIA-BIA_DEE'] / df['Physical-Weight'],\n",
    "        'SMM_Height': df['BIA-BIA_SMM'] / df['Physical-Height'],\n",
    "        'Muscle_to_Fat': df['BIA-BIA_SMM'] / df['BIA-BIA_FMI'],\n",
    "        'Hydration_Status': df['BIA-BIA_TBW'] / df['Physical-Weight'],\n",
    "        'ICW_TBW': df['BIA-BIA_ICW'] / df['BIA-BIA_TBW']\n",
    "    })\n",
    "\n",
    "    # Concatenate new features with the original DataFrame\n",
    "    df = pd.concat([df, new_features], axis=1)\n",
    "    \n",
    "    return df"
   ]
  },
  {
   "cell_type": "code",
   "execution_count": 28,
   "id": "42e6cca9",
   "metadata": {
    "execution": {
     "iopub.execute_input": "2024-11-11T16:02:43.476723Z",
     "iopub.status.busy": "2024-11-11T16:02:43.476303Z",
     "iopub.status.idle": "2024-11-11T16:02:43.503002Z",
     "shell.execute_reply": "2024-11-11T16:02:43.501909Z"
    },
    "papermill": {
     "duration": 0.061661,
     "end_time": "2024-11-11T16:02:43.505766",
     "exception": false,
     "start_time": "2024-11-11T16:02:43.444105",
     "status": "completed"
    },
    "tags": []
   },
   "outputs": [],
   "source": [
    "# Apply feature engineering and clean data\n",
    "\n",
    "train_imputed = feature_engineering(train_imputed)\n",
    "train_imputed.dropna(thresh=1, axis=0, inplace=True)\n",
    "train_imputed.replace([np.inf, -np.inf], 0, inplace=True)"
   ]
  },
  {
   "cell_type": "markdown",
   "id": "d38dbe48",
   "metadata": {
    "papermill": {
     "duration": 0.028301,
     "end_time": "2024-11-11T16:02:43.562779",
     "exception": false,
     "start_time": "2024-11-11T16:02:43.534478",
     "status": "completed"
    },
    "tags": []
   },
   "source": [
    "---"
   ]
  },
  {
   "cell_type": "markdown",
   "id": "88e54236",
   "metadata": {
    "papermill": {
     "duration": 0.029261,
     "end_time": "2024-11-11T16:02:43.620779",
     "exception": false,
     "start_time": "2024-11-11T16:02:43.591518",
     "status": "completed"
    },
    "tags": []
   },
   "source": [
    "### PCA"
   ]
  },
  {
   "cell_type": "code",
   "execution_count": 29,
   "id": "82196ab6",
   "metadata": {
    "execution": {
     "iopub.execute_input": "2024-11-11T16:02:43.682266Z",
     "iopub.status.busy": "2024-11-11T16:02:43.681674Z",
     "iopub.status.idle": "2024-11-11T16:02:43.775586Z",
     "shell.execute_reply": "2024-11-11T16:02:43.773783Z"
    },
    "papermill": {
     "duration": 0.129052,
     "end_time": "2024-11-11T16:02:43.778915",
     "exception": false,
     "start_time": "2024-11-11T16:02:43.649863",
     "status": "completed"
    },
    "tags": []
   },
   "outputs": [
    {
     "name": "stdout",
     "output_type": "stream",
     "text": [
      "Original shape: (3168, 74)\n",
      "Transformed shape after PCA: (3168, 35)\n"
     ]
    }
   ],
   "source": [
    "# PCA Implementation\n",
    "\n",
    "# Split the dataset into features and target variable\n",
    "X = train_imputed.drop('id', axis=1)  # Drop 'id' column from features\n",
    "y = train_imputed['sii']  # Target variable\n",
    "\n",
    "# Split the dataset into training and testing sets\n",
    "X_train, X_test, y_train, y_test = train_test_split(X, y, test_size=0.2, random_state=42)\n",
    "\n",
    "# Standardize the features\n",
    "scaler = StandardScaler()\n",
    "X_train_scaled = scaler.fit_transform(X_train)\n",
    "X_test_scaled = scaler.transform(X_test)\n",
    "\n",
    "# Apply PCA\n",
    "pca = PCA(n_components=0.95)  # Preserve 95% of variance\n",
    "X_train_pca = pca.fit_transform(X_train_scaled)\n",
    "X_test_pca = pca.transform(X_test_scaled)\n",
    "\n",
    "# Check the shape of the PCA output\n",
    "print(\"Original shape:\", X_train.shape)\n",
    "print(\"Transformed shape after PCA:\", X_train_pca.shape)"
   ]
  },
  {
   "cell_type": "markdown",
   "id": "5770565d",
   "metadata": {
    "execution": {
     "iopub.execute_input": "2024-11-01T14:21:34.919288Z",
     "iopub.status.busy": "2024-11-01T14:21:34.917447Z",
     "iopub.status.idle": "2024-11-01T14:21:34.925869Z",
     "shell.execute_reply": "2024-11-01T14:21:34.924821Z",
     "shell.execute_reply.started": "2024-11-01T14:21:34.919201Z"
    },
    "papermill": {
     "duration": 0.036475,
     "end_time": "2024-11-11T16:02:43.913617",
     "exception": false,
     "start_time": "2024-11-11T16:02:43.877142",
     "status": "completed"
    },
    "tags": []
   },
   "source": [
    "### Ada Model"
   ]
  },
  {
   "cell_type": "code",
   "execution_count": 30,
   "id": "686ace88",
   "metadata": {
    "execution": {
     "iopub.execute_input": "2024-11-11T16:02:43.973252Z",
     "iopub.status.busy": "2024-11-11T16:02:43.972788Z",
     "iopub.status.idle": "2024-11-11T16:02:46.011383Z",
     "shell.execute_reply": "2024-11-11T16:02:46.010037Z"
    },
    "papermill": {
     "duration": 2.071838,
     "end_time": "2024-11-11T16:02:46.014255",
     "exception": false,
     "start_time": "2024-11-11T16:02:43.942417",
     "status": "completed"
    },
    "tags": []
   },
   "outputs": [
    {
     "name": "stdout",
     "output_type": "stream",
     "text": [
      "AdaBoost Model Accuracy: 0.7614\n"
     ]
    }
   ],
   "source": [
    "# Initialize the AdaBoost model\n",
    "ada_model = AdaBoostClassifier(n_estimators=100, random_state=42)\n",
    "\n",
    "# Fit the model on PCA-transformed training data\n",
    "ada_model.fit(X_train_pca, y_train)\n",
    "\n",
    "# Make predictions on the test set\n",
    "y_pred_ada = ada_model.predict(X_test_pca)\n",
    "\n",
    "# Calculate accuracy\n",
    "accuracy_ada = accuracy_score(y_test, y_pred_ada)\n",
    "print(f'AdaBoost Model Accuracy: {accuracy_ada:.4f}')"
   ]
  },
  {
   "cell_type": "markdown",
   "id": "977f8abe",
   "metadata": {
    "execution": {
     "iopub.execute_input": "2024-11-01T14:21:36.708676Z",
     "iopub.status.busy": "2024-11-01T14:21:36.708224Z",
     "iopub.status.idle": "2024-11-01T14:21:36.714102Z",
     "shell.execute_reply": "2024-11-01T14:21:36.712835Z",
     "shell.execute_reply.started": "2024-11-01T14:21:36.708634Z"
    },
    "papermill": {
     "duration": 0.028828,
     "end_time": "2024-11-11T16:02:46.072425",
     "exception": false,
     "start_time": "2024-11-11T16:02:46.043597",
     "status": "completed"
    },
    "tags": []
   },
   "source": [
    "### Gradient Boost"
   ]
  },
  {
   "cell_type": "code",
   "execution_count": 31,
   "id": "e43b8dfe",
   "metadata": {
    "execution": {
     "iopub.execute_input": "2024-11-11T16:02:46.133350Z",
     "iopub.status.busy": "2024-11-11T16:02:46.132845Z",
     "iopub.status.idle": "2024-11-11T16:03:03.197488Z",
     "shell.execute_reply": "2024-11-11T16:03:03.195920Z"
    },
    "papermill": {
     "duration": 17.098256,
     "end_time": "2024-11-11T16:03:03.200346",
     "exception": false,
     "start_time": "2024-11-11T16:02:46.102090",
     "status": "completed"
    },
    "tags": []
   },
   "outputs": [
    {
     "name": "stdout",
     "output_type": "stream",
     "text": [
      "Gradient Boosting Model Accuracy: 0.9104\n"
     ]
    }
   ],
   "source": [
    "# Initialize the Gradient Boosting model\n",
    "gb_model = GradientBoostingClassifier(n_estimators=100, random_state=42)\n",
    "\n",
    "# Fit the model on PCA-transformed training data\n",
    "gb_model.fit(X_train_pca, y_train)\n",
    "\n",
    "# Make predictions on the test set\n",
    "y_pred_gb = gb_model.predict(X_test_pca)\n",
    "\n",
    "# Calculate accuracy\n",
    "accuracy_gb = accuracy_score(y_test, y_pred_gb)\n",
    "print(f'Gradient Boosting Model Accuracy: {accuracy_gb:.4f}')"
   ]
  },
  {
   "cell_type": "markdown",
   "id": "fdc8ed60",
   "metadata": {
    "execution": {
     "iopub.execute_input": "2024-11-01T14:21:51.001822Z",
     "iopub.status.busy": "2024-11-01T14:21:51.001130Z",
     "iopub.status.idle": "2024-11-01T14:21:51.009499Z",
     "shell.execute_reply": "2024-11-01T14:21:51.007427Z",
     "shell.execute_reply.started": "2024-11-01T14:21:51.001768Z"
    },
    "papermill": {
     "duration": 0.030869,
     "end_time": "2024-11-11T16:03:03.261806",
     "exception": false,
     "start_time": "2024-11-11T16:03:03.230937",
     "status": "completed"
    },
    "tags": []
   },
   "source": [
    "### Random Forest"
   ]
  },
  {
   "cell_type": "code",
   "execution_count": 32,
   "id": "3f726b99",
   "metadata": {
    "execution": {
     "iopub.execute_input": "2024-11-11T16:03:03.324128Z",
     "iopub.status.busy": "2024-11-11T16:03:03.323638Z",
     "iopub.status.idle": "2024-11-11T16:03:05.053059Z",
     "shell.execute_reply": "2024-11-11T16:03:05.051782Z"
    },
    "papermill": {
     "duration": 1.763735,
     "end_time": "2024-11-11T16:03:05.055834",
     "exception": false,
     "start_time": "2024-11-11T16:03:03.292099",
     "status": "completed"
    },
    "tags": []
   },
   "outputs": [
    {
     "name": "stdout",
     "output_type": "stream",
     "text": [
      "Random Forest Model Accuracy: 0.8535\n"
     ]
    }
   ],
   "source": [
    "# Initialize the Random Forest model\n",
    "rf_model = RandomForestClassifier(n_estimators=100, random_state=42, class_weight='balanced')\n",
    "\n",
    "# Fit the model on PCA-transformed training data\n",
    "rf_model.fit(X_train_pca, y_train)\n",
    "\n",
    "# Make predictions on the test set\n",
    "y_pred_rf = rf_model.predict(X_test_pca)\n",
    "\n",
    "# Calculate accuracy\n",
    "accuracy_rf = accuracy_score(y_test, y_pred_rf)\n",
    "print(f'Random Forest Model Accuracy: {accuracy_rf:.4f}')"
   ]
  },
  {
   "cell_type": "code",
   "execution_count": 33,
   "id": "445a5f60",
   "metadata": {
    "execution": {
     "iopub.execute_input": "2024-11-11T16:03:05.118054Z",
     "iopub.status.busy": "2024-11-11T16:03:05.117561Z",
     "iopub.status.idle": "2024-11-11T16:03:25.853469Z",
     "shell.execute_reply": "2024-11-11T16:03:25.852089Z"
    },
    "papermill": {
     "duration": 20.770676,
     "end_time": "2024-11-11T16:03:25.856080",
     "exception": false,
     "start_time": "2024-11-11T16:03:05.085404",
     "status": "completed"
    },
    "tags": []
   },
   "outputs": [
    {
     "name": "stdout",
     "output_type": "stream",
     "text": [
      "Voting Classifier Model Accuracy: 0.9167\n"
     ]
    }
   ],
   "source": [
    "# Initialize the voting classifier with the three models\n",
    "voting_model = VotingClassifier(\n",
    "    estimators=[\n",
    "        ('rf', rf_model),\n",
    "        ('ada', ada_model),\n",
    "        ('gb', gb_model)\n",
    "    ],\n",
    "    voting='soft'  # Use soft voting to consider predicted probabilities\n",
    ")\n",
    "\n",
    "# Fit the voting model on PCA-transformed training data\n",
    "voting_model.fit(X_train_pca, y_train)\n",
    "\n",
    "# Make predictions on the test set\n",
    "y_pred_voting = voting_model.predict(X_test_pca)\n",
    "\n",
    "# Calculate accuracy\n",
    "accuracy_voting = accuracy_score(y_test, y_pred_voting)\n",
    "print(f'Voting Classifier Model Accuracy: {accuracy_voting:.4f}')"
   ]
  },
  {
   "cell_type": "markdown",
   "id": "68888ae1",
   "metadata": {
    "papermill": {
     "duration": 0.029196,
     "end_time": "2024-11-11T16:03:25.916638",
     "exception": false,
     "start_time": "2024-11-11T16:03:25.887442",
     "status": "completed"
    },
    "tags": []
   },
   "source": [
    "---"
   ]
  },
  {
   "cell_type": "markdown",
   "id": "ec32e63d",
   "metadata": {
    "papermill": {
     "duration": 0.029313,
     "end_time": "2024-11-11T16:03:25.976037",
     "exception": false,
     "start_time": "2024-11-11T16:03:25.946724",
     "status": "completed"
    },
    "tags": []
   },
   "source": [
    "# Progress Report #2 1.0"
   ]
  },
  {
   "cell_type": "code",
   "execution_count": 34,
   "id": "c8c5e966",
   "metadata": {
    "execution": {
     "iopub.execute_input": "2024-11-11T16:03:26.037774Z",
     "iopub.status.busy": "2024-11-11T16:03:26.037353Z",
     "iopub.status.idle": "2024-11-11T16:03:26.108708Z",
     "shell.execute_reply": "2024-11-11T16:03:26.107437Z"
    },
    "papermill": {
     "duration": 0.106454,
     "end_time": "2024-11-11T16:03:26.111690",
     "exception": false,
     "start_time": "2024-11-11T16:03:26.005236",
     "status": "completed"
    },
    "tags": []
   },
   "outputs": [],
   "source": [
    "# Load Data\n",
    "\n",
    "train_og = pd.read_csv('/kaggle/input/child-mind-institute-problematic-internet-use/train.csv')\n",
    "test_og = pd.read_csv('/kaggle/input/child-mind-institute-problematic-internet-use/test.csv')"
   ]
  },
  {
   "cell_type": "markdown",
   "id": "c7b41415",
   "metadata": {
    "papermill": {
     "duration": 0.029883,
     "end_time": "2024-11-11T16:03:26.171744",
     "exception": false,
     "start_time": "2024-11-11T16:03:26.141861",
     "status": "completed"
    },
    "tags": []
   },
   "source": [
    "### Add in Actigraphy Time Series Data"
   ]
  },
  {
   "cell_type": "code",
   "execution_count": 35,
   "id": "cf5c2949",
   "metadata": {
    "execution": {
     "iopub.execute_input": "2024-11-11T16:03:26.234700Z",
     "iopub.status.busy": "2024-11-11T16:03:26.233750Z",
     "iopub.status.idle": "2024-11-11T16:03:26.244901Z",
     "shell.execute_reply": "2024-11-11T16:03:26.243037Z"
    },
    "papermill": {
     "duration": 0.044999,
     "end_time": "2024-11-11T16:03:26.247780",
     "exception": false,
     "start_time": "2024-11-11T16:03:26.202781",
     "status": "completed"
    },
    "tags": []
   },
   "outputs": [],
   "source": [
    "def load_and_process_data(directory):\n",
    "    files = os.listdir(directory)\n",
    "    all_stats = []\n",
    "\n",
    "    with ThreadPoolExecutor() as executor:\n",
    "        futures = [executor.submit(pd.read_parquet, os.path.join(directory, file, 'part-0.parquet')) for file in files]\n",
    "        for future in tqdm(futures):\n",
    "            data = future.result()\n",
    "            if 'step' in data.columns:\n",
    "                data.drop('step', axis=1, inplace=True)\n",
    "\n",
    "            # Calculate summary statistics\n",
    "            stats = data.describe().values.reshape(-1)\n",
    "            all_stats.append(stats)\n",
    "\n",
    "    # Create a DataFrame for summary statistics\n",
    "    stat_columns = [f\"stat_{i}\" for i in range(len(all_stats[0]))]\n",
    "    summary_df = pd.DataFrame(all_stats, columns=stat_columns)\n",
    "    summary_df['id'] = [file.split('=')[1] for file in files]  # Extract 'id' from filenames\n",
    "\n",
    "    return summary_df"
   ]
  },
  {
   "cell_type": "code",
   "execution_count": 36,
   "id": "090afa63",
   "metadata": {
    "execution": {
     "iopub.execute_input": "2024-11-11T16:03:26.310933Z",
     "iopub.status.busy": "2024-11-11T16:03:26.309664Z",
     "iopub.status.idle": "2024-11-11T16:05:59.084923Z",
     "shell.execute_reply": "2024-11-11T16:05:59.083537Z"
    },
    "papermill": {
     "duration": 152.810445,
     "end_time": "2024-11-11T16:05:59.087551",
     "exception": false,
     "start_time": "2024-11-11T16:03:26.277106",
     "status": "completed"
    },
    "tags": []
   },
   "outputs": [
    {
     "name": "stderr",
     "output_type": "stream",
     "text": [
      "100%|██████████| 996/996 [02:32<00:00,  6.54it/s]\n",
      "100%|██████████| 2/2 [00:00<00:00,  8.12it/s]\n"
     ]
    }
   ],
   "source": [
    "# Load actigraphy time series data\n",
    "train_ts = load_and_process_data(\"/kaggle/input/child-mind-institute-problematic-internet-use/series_train.parquet\")\n",
    "test_ts = load_and_process_data(\"/kaggle/input/child-mind-institute-problematic-internet-use/series_test.parquet\")\n",
    "\n",
    "df_train = train_ts.drop('id', axis=1)\n",
    "df_test = test_ts.drop('id', axis=1)"
   ]
  },
  {
   "cell_type": "code",
   "execution_count": 37,
   "id": "e76bc55d",
   "metadata": {
    "execution": {
     "iopub.execute_input": "2024-11-11T16:05:59.300993Z",
     "iopub.status.busy": "2024-11-11T16:05:59.300542Z",
     "iopub.status.idle": "2024-11-11T16:05:59.316523Z",
     "shell.execute_reply": "2024-11-11T16:05:59.315220Z"
    },
    "papermill": {
     "duration": 0.125206,
     "end_time": "2024-11-11T16:05:59.319232",
     "exception": false,
     "start_time": "2024-11-11T16:05:59.194026",
     "status": "completed"
    },
    "tags": []
   },
   "outputs": [],
   "source": [
    "class SimpleAutoEncoder(nn.Module):\n",
    "    def __init__(self, input_dim, encoding_dim):\n",
    "        super(SimpleAutoEncoder, self).__init__()\n",
    "        self.encoder = nn.Sequential(\n",
    "            nn.Linear(input_dim, encoding_dim * 2),\n",
    "            nn.ReLU(),\n",
    "            nn.Linear(encoding_dim * 2, encoding_dim),\n",
    "            nn.ReLU()\n",
    "        )\n",
    "        self.decoder = nn.Sequential(\n",
    "            nn.Linear(encoding_dim, encoding_dim * 2),\n",
    "            nn.ReLU(),\n",
    "            nn.Linear(encoding_dim * 2, input_dim),\n",
    "            nn.Sigmoid()\n",
    "        )\n",
    "\n",
    "    def forward(self, x):\n",
    "        return self.decoder(self.encoder(x))\n",
    "\n",
    "def train_autoencoder(data, encoding_dim=10, epochs=20, batch_size=16):\n",
    "    scaler = StandardScaler()\n",
    "    scaled_data = scaler.fit_transform(data)\n",
    "    tensor_data = torch.FloatTensor(scaled_data)\n",
    "\n",
    "    autoencoder = SimpleAutoEncoder(input_dim=tensor_data.shape[1], encoding_dim=encoding_dim)\n",
    "    criterion = nn.MSELoss()\n",
    "    optimizer = optim.Adam(autoencoder.parameters())\n",
    "\n",
    "    for epoch in range(epochs):\n",
    "        for i in range(0, len(tensor_data), batch_size):\n",
    "            batch = tensor_data[i:i + batch_size]\n",
    "            optimizer.zero_grad()\n",
    "            loss = criterion(autoencoder(batch), batch)\n",
    "            loss.backward()\n",
    "            optimizer.step()\n",
    "        if (epoch + 1) % 5 == 0:\n",
    "            print(f'Epoch {epoch + 1}/{epochs}, Loss: {loss.item():.4f}')\n",
    "\n",
    "    with torch.no_grad():\n",
    "        encoded_data = autoencoder.encoder(tensor_data).numpy()\n",
    "    \n",
    "    return pd.DataFrame(encoded_data, columns=[f'Enc_{i+1}' for i in range(encoded_data.shape[1])])"
   ]
  },
  {
   "cell_type": "code",
   "execution_count": 38,
   "id": "b43d9937",
   "metadata": {
    "execution": {
     "iopub.execute_input": "2024-11-11T16:05:59.540636Z",
     "iopub.status.busy": "2024-11-11T16:05:59.540209Z",
     "iopub.status.idle": "2024-11-11T16:06:09.050667Z",
     "shell.execute_reply": "2024-11-11T16:06:09.049451Z"
    },
    "papermill": {
     "duration": 9.627733,
     "end_time": "2024-11-11T16:06:09.053271",
     "exception": false,
     "start_time": "2024-11-11T16:05:59.425538",
     "status": "completed"
    },
    "tags": []
   },
   "outputs": [
    {
     "name": "stdout",
     "output_type": "stream",
     "text": [
      "Epoch 5/100, Loss: 1.4756\n",
      "Epoch 10/100, Loss: 1.3895\n",
      "Epoch 15/100, Loss: 1.3811\n",
      "Epoch 20/100, Loss: 1.3799\n",
      "Epoch 25/100, Loss: 1.3775\n",
      "Epoch 30/100, Loss: 1.3767\n",
      "Epoch 35/100, Loss: 1.3707\n",
      "Epoch 40/100, Loss: 1.3710\n",
      "Epoch 45/100, Loss: 1.3639\n",
      "Epoch 50/100, Loss: 1.3632\n",
      "Epoch 55/100, Loss: 1.3617\n",
      "Epoch 60/100, Loss: 1.3598\n",
      "Epoch 65/100, Loss: 1.3589\n",
      "Epoch 70/100, Loss: 1.3593\n",
      "Epoch 75/100, Loss: 1.3603\n",
      "Epoch 80/100, Loss: 1.3587\n",
      "Epoch 85/100, Loss: 1.3566\n",
      "Epoch 90/100, Loss: 1.3568\n",
      "Epoch 95/100, Loss: 1.3562\n",
      "Epoch 100/100, Loss: 1.3587\n",
      "Epoch 5/100, Loss: 1.0801\n",
      "Epoch 10/100, Loss: 1.0161\n",
      "Epoch 15/100, Loss: 0.8787\n",
      "Epoch 20/100, Loss: 0.6750\n",
      "Epoch 25/100, Loss: 0.5116\n",
      "Epoch 30/100, Loss: 0.4428\n",
      "Epoch 35/100, Loss: 0.4283\n",
      "Epoch 40/100, Loss: 0.4272\n",
      "Epoch 45/100, Loss: 0.4271\n",
      "Epoch 50/100, Loss: 0.4271\n",
      "Epoch 55/100, Loss: 0.4271\n",
      "Epoch 60/100, Loss: 0.4271\n",
      "Epoch 65/100, Loss: 0.4271\n",
      "Epoch 70/100, Loss: 0.4271\n",
      "Epoch 75/100, Loss: 0.4271\n",
      "Epoch 80/100, Loss: 0.4271\n",
      "Epoch 85/100, Loss: 0.4271\n",
      "Epoch 90/100, Loss: 0.4271\n",
      "Epoch 95/100, Loss: 0.4271\n",
      "Epoch 100/100, Loss: 0.4271\n"
     ]
    }
   ],
   "source": [
    "# Autoencode Data\n",
    "train_ts_encoded = train_autoencoder(df_train, encoding_dim=60, epochs=100, batch_size=32)\n",
    "test_ts_encoded = train_autoencoder(df_test, encoding_dim=60, epochs=100, batch_size=32)"
   ]
  },
  {
   "cell_type": "code",
   "execution_count": 39,
   "id": "37d3777f",
   "metadata": {
    "execution": {
     "iopub.execute_input": "2024-11-11T16:06:09.271461Z",
     "iopub.status.busy": "2024-11-11T16:06:09.270582Z",
     "iopub.status.idle": "2024-11-11T16:06:09.296495Z",
     "shell.execute_reply": "2024-11-11T16:06:09.295399Z"
    },
    "papermill": {
     "duration": 0.138325,
     "end_time": "2024-11-11T16:06:09.299356",
     "exception": false,
     "start_time": "2024-11-11T16:06:09.161031",
     "status": "completed"
    },
    "tags": []
   },
   "outputs": [],
   "source": [
    "time_series_cols = train_ts_encoded.columns.tolist()\n",
    "# Add 'id' back to the encoded DataFrame\n",
    "train_ts_encoded[\"id\"]=train_ts[\"id\"]\n",
    "test_ts_encoded['id']=test_ts[\"id\"]\n",
    "\n",
    "train = pd.merge(train_og, train_ts_encoded, how=\"left\", on='id')\n",
    "test = pd.merge(test_og, test_ts_encoded, how=\"left\", on='id')"
   ]
  },
  {
   "cell_type": "code",
   "execution_count": 40,
   "id": "9b14ee59",
   "metadata": {
    "execution": {
     "iopub.execute_input": "2024-11-11T16:06:09.524968Z",
     "iopub.status.busy": "2024-11-11T16:06:09.524434Z",
     "iopub.status.idle": "2024-11-11T16:06:09.532631Z",
     "shell.execute_reply": "2024-11-11T16:06:09.531479Z"
    },
    "papermill": {
     "duration": 0.125934,
     "end_time": "2024-11-11T16:06:09.535271",
     "exception": false,
     "start_time": "2024-11-11T16:06:09.409337",
     "status": "completed"
    },
    "tags": []
   },
   "outputs": [
    {
     "name": "stdout",
     "output_type": "stream",
     "text": [
      "Percentage of missing values in 'sii': 30.91%\n"
     ]
    }
   ],
   "source": [
    "# Calculate % of Missing sii\n",
    "\n",
    "# Count the total number of rows\n",
    "total_rows = len(train)\n",
    "\n",
    "# Count the missing values in the 'sii' column\n",
    "missing_sii = train['sii'].isna().sum()\n",
    "\n",
    "# Calculate the percentage of missing values\n",
    "missing_percentage = (missing_sii / total_rows) * 100\n",
    "\n",
    "print(f\"Percentage of missing values in 'sii': {missing_percentage:.2f}%\")"
   ]
  },
  {
   "cell_type": "markdown",
   "id": "c8697150",
   "metadata": {
    "papermill": {
     "duration": 0.133301,
     "end_time": "2024-11-11T16:06:09.780311",
     "exception": false,
     "start_time": "2024-11-11T16:06:09.647010",
     "status": "completed"
    },
    "tags": []
   },
   "source": [
    "Since more than 30% of the data is missing, imputation might be a better choice than removing the rows. "
   ]
  },
  {
   "cell_type": "markdown",
   "id": "12c2fadf",
   "metadata": {
    "papermill": {
     "duration": 0.110512,
     "end_time": "2024-11-11T16:06:10.014247",
     "exception": false,
     "start_time": "2024-11-11T16:06:09.903735",
     "status": "completed"
    },
    "tags": []
   },
   "source": [
    "### Impute Missing Data\n",
    "#### Use KNN Imputer \n",
    "\n",
    "Given the large dataset and the convergence warning upon MICE, switching from IterativeImputer to a simpler imputer, like KNNImputer, might be beneficial for handling such large datasets. \n",
    "KNNImputer can be faster and less likely to run into convergence issues, especially with higher-dimensional data."
   ]
  },
  {
   "cell_type": "code",
   "execution_count": 41,
   "id": "de7489ac",
   "metadata": {
    "execution": {
     "iopub.execute_input": "2024-11-11T16:06:10.248829Z",
     "iopub.status.busy": "2024-11-11T16:06:10.248280Z",
     "iopub.status.idle": "2024-11-11T16:06:10.260161Z",
     "shell.execute_reply": "2024-11-11T16:06:10.258950Z"
    },
    "papermill": {
     "duration": 0.133907,
     "end_time": "2024-11-11T16:06:10.263297",
     "exception": false,
     "start_time": "2024-11-11T16:06:10.129390",
     "status": "completed"
    },
    "tags": []
   },
   "outputs": [],
   "source": [
    "def impute_missing_values(data, season_columns, season_mapping):\n",
    "    # Encode Seasons\n",
    "    data[season_columns] = data[season_columns].map(lambda x: season_mapping.get(x, x))\n",
    "    \n",
    "    # Identify numeric columns\n",
    "    numeric_cols = data.select_dtypes(include=['float64', 'float32', 'int64']).columns\n",
    "    \n",
    "    # Scale numeric features for KNN imputation\n",
    "    scaler = StandardScaler()\n",
    "    data_scaled = data.copy()\n",
    "    data_scaled[numeric_cols] = scaler.fit_transform(data[numeric_cols])\n",
    "    \n",
    "    # Initialize the imputer and apply it only on numeric columns with missing values\n",
    "    imputer = KNNImputer(n_neighbors=5)\n",
    "    imputed_numeric_data = imputer.fit_transform(data_scaled[numeric_cols])\n",
    "    imputed_scaled_df = pd.DataFrame(imputed_numeric_data, columns=numeric_cols)\n",
    "    \n",
    "    # Invert scaling to original scale for imputed numeric columns\n",
    "    imputed_data = data.copy()\n",
    "    imputed_data[numeric_cols] = scaler.inverse_transform(imputed_scaled_df)\n",
    "    \n",
    "    # Clip and convert 'sii' to integers\n",
    "    if 'sii' in imputed_data.columns:\n",
    "        imputed_data['sii'] = imputed_data['sii'].clip(lower=0, upper=3).round().astype(int)\n",
    "    \n",
    "    # Ensure other columns remain intact\n",
    "    for col in imputed_data.columns:\n",
    "        if col not in numeric_cols:\n",
    "            imputed_data[col] = data[col]\n",
    "    \n",
    "    # Convert season columns to integers\n",
    "    imputed_data[season_columns] = imputed_data[season_columns].astype(int)\n",
    "    \n",
    "    return imputed_data"
   ]
  },
  {
   "cell_type": "code",
   "execution_count": 42,
   "id": "0bc3ec71",
   "metadata": {
    "execution": {
     "iopub.execute_input": "2024-11-11T16:06:10.498334Z",
     "iopub.status.busy": "2024-11-11T16:06:10.497760Z",
     "iopub.status.idle": "2024-11-11T16:06:26.658222Z",
     "shell.execute_reply": "2024-11-11T16:06:26.656826Z"
    },
    "papermill": {
     "duration": 16.275733,
     "end_time": "2024-11-11T16:06:26.661282",
     "exception": false,
     "start_time": "2024-11-11T16:06:10.385549",
     "status": "completed"
    },
    "tags": []
   },
   "outputs": [],
   "source": [
    "# Define season mapping\n",
    "season_mapping = {'Spring': 1, 'Summer': 2, 'Fall': 3, 'Winter': 4}\n",
    "\n",
    "# For the train set\n",
    "season_columns_train = [col for col in train.columns if 'Season' in col]\n",
    "train_imputed = impute_missing_values(train, season_columns_train, season_mapping)\n",
    "\n",
    "# For the test set\n",
    "season_columns_test = [col for col in test.columns if 'Season' in col]\n",
    "test_imputed = impute_missing_values(test, season_columns_test, season_mapping)"
   ]
  },
  {
   "cell_type": "code",
   "execution_count": 43,
   "id": "638a880f",
   "metadata": {
    "execution": {
     "iopub.execute_input": "2024-11-11T16:06:26.881693Z",
     "iopub.status.busy": "2024-11-11T16:06:26.881214Z",
     "iopub.status.idle": "2024-11-11T16:06:26.918178Z",
     "shell.execute_reply": "2024-11-11T16:06:26.916864Z"
    },
    "papermill": {
     "duration": 0.14951,
     "end_time": "2024-11-11T16:06:26.921186",
     "exception": false,
     "start_time": "2024-11-11T16:06:26.771676",
     "status": "completed"
    },
    "tags": []
   },
   "outputs": [],
   "source": [
    "# Perform feature engineering\n",
    "train_imputed = feature_engineering(train_imputed)\n",
    "train_imputed.dropna(thresh=1, axis=0, inplace=True)\n",
    "train_imputed.replace([np.inf, -np.inf], 0, inplace=True)\n",
    "\n",
    "test_imputed = feature_engineering(test_imputed)"
   ]
  },
  {
   "cell_type": "code",
   "execution_count": 44,
   "id": "94e1878d",
   "metadata": {
    "execution": {
     "iopub.execute_input": "2024-11-11T16:06:27.141094Z",
     "iopub.status.busy": "2024-11-11T16:06:27.140623Z",
     "iopub.status.idle": "2024-11-11T16:06:27.151741Z",
     "shell.execute_reply": "2024-11-11T16:06:27.150444Z"
    },
    "papermill": {
     "duration": 0.123656,
     "end_time": "2024-11-11T16:06:27.154589",
     "exception": false,
     "start_time": "2024-11-11T16:06:27.030933",
     "status": "completed"
    },
    "tags": []
   },
   "outputs": [],
   "source": [
    "# Get the columns from both DataFrames\n",
    "train_cols = set(train_og.columns)\n",
    "test_cols = set(test_og.columns)\n",
    "\n",
    "# Find common columns\n",
    "common_cols = train_cols.intersection(test_cols)\n",
    "featuresCols = [col for col in common_cols if col != 'id']\n",
    "featuresCols += time_series_cols\n",
    "\n",
    "test_imputed = test_imputed[featuresCols]\n",
    "featuresCols.append('sii')\n",
    "train_imputed = train_imputed[featuresCols]"
   ]
  },
  {
   "cell_type": "code",
   "execution_count": 45,
   "id": "f7fa0554",
   "metadata": {
    "execution": {
     "iopub.execute_input": "2024-11-11T16:06:27.374350Z",
     "iopub.status.busy": "2024-11-11T16:06:27.372696Z",
     "iopub.status.idle": "2024-11-11T16:06:27.386300Z",
     "shell.execute_reply": "2024-11-11T16:06:27.384982Z"
    },
    "papermill": {
     "duration": 0.126658,
     "end_time": "2024-11-11T16:06:27.389303",
     "exception": false,
     "start_time": "2024-11-11T16:06:27.262645",
     "status": "completed"
    },
    "tags": []
   },
   "outputs": [],
   "source": [
    "# Split the dataset into features and target variable\n",
    "X = train_imputed.drop('sii', axis=1)\n",
    "y = train_imputed['sii']  # Target variable\n",
    "\n",
    "# Split the dataset into training and testing sets\n",
    "X_train, X_test, y_train, y_test = train_test_split(X, y, test_size=0.2, random_state=42)"
   ]
  },
  {
   "cell_type": "code",
   "execution_count": 46,
   "id": "131ff886",
   "metadata": {
    "execution": {
     "iopub.execute_input": "2024-11-11T16:06:27.609654Z",
     "iopub.status.busy": "2024-11-11T16:06:27.609200Z",
     "iopub.status.idle": "2024-11-11T16:06:27.639568Z",
     "shell.execute_reply": "2024-11-11T16:06:27.638169Z"
    },
    "papermill": {
     "duration": 0.1436,
     "end_time": "2024-11-11T16:06:27.642519",
     "exception": false,
     "start_time": "2024-11-11T16:06:27.498919",
     "status": "completed"
    },
    "tags": []
   },
   "outputs": [],
   "source": [
    "# Standardize the features\n",
    "scaler = StandardScaler()\n",
    "X_train_scaled = scaler.fit_transform(X_train)\n",
    "X_test_scaled = scaler.transform(X_test)\n",
    "\n",
    "test_scaled = scaler.transform(test_imputed)"
   ]
  },
  {
   "cell_type": "code",
   "execution_count": 47,
   "id": "470f57ce",
   "metadata": {
    "execution": {
     "iopub.execute_input": "2024-11-11T16:06:27.864906Z",
     "iopub.status.busy": "2024-11-11T16:06:27.864422Z",
     "iopub.status.idle": "2024-11-11T16:06:27.926517Z",
     "shell.execute_reply": "2024-11-11T16:06:27.924469Z"
    },
    "papermill": {
     "duration": 0.177021,
     "end_time": "2024-11-11T16:06:27.930824",
     "exception": false,
     "start_time": "2024-11-11T16:06:27.753803",
     "status": "completed"
    },
    "tags": []
   },
   "outputs": [],
   "source": [
    "# Apply PCA\n",
    "pca = PCA(n_components=0.95)  # Preserve 95% of variance\n",
    "X_train_pca = pca.fit_transform(X_train_scaled)\n",
    "X_test_pca = pca.transform(X_test_scaled)\n",
    "test_pca = pca.transform(test_scaled)"
   ]
  },
  {
   "cell_type": "markdown",
   "id": "9511b9b8",
   "metadata": {
    "papermill": {
     "duration": 0.107315,
     "end_time": "2024-11-11T16:06:28.218578",
     "exception": false,
     "start_time": "2024-11-11T16:06:28.111263",
     "status": "completed"
    },
    "tags": []
   },
   "source": [
    "# Models"
   ]
  },
  {
   "cell_type": "markdown",
   "id": "3055b84d",
   "metadata": {
    "papermill": {
     "duration": 0.108988,
     "end_time": "2024-11-11T16:06:28.434797",
     "exception": false,
     "start_time": "2024-11-11T16:06:28.325809",
     "status": "completed"
    },
    "tags": []
   },
   "source": [
    "The target (sii) has an ordinal nature, with values representing categories: 0 for None, 1 for Mild, 2 for Moderate, and 3 for Severe. \n",
    "Therefore, regression is appropriate for this analysis to capture the inherent order in the severity levels."
   ]
  },
  {
   "cell_type": "markdown",
   "id": "6fcc9aed",
   "metadata": {
    "papermill": {
     "duration": 0.107766,
     "end_time": "2024-11-11T16:06:28.652795",
     "exception": false,
     "start_time": "2024-11-11T16:06:28.545029",
     "status": "completed"
    },
    "tags": []
   },
   "source": [
    "### Voting Regressor"
   ]
  },
  {
   "cell_type": "markdown",
   "id": "e07300fc",
   "metadata": {
    "papermill": {
     "duration": 0.108769,
     "end_time": "2024-11-11T16:06:28.874995",
     "exception": false,
     "start_time": "2024-11-11T16:06:28.766226",
     "status": "completed"
    },
    "tags": []
   },
   "source": [
    "### Hyperparameters"
   ]
  },
  {
   "cell_type": "code",
   "execution_count": 48,
   "id": "d4c86383",
   "metadata": {
    "execution": {
     "iopub.execute_input": "2024-11-11T16:06:29.093187Z",
     "iopub.status.busy": "2024-11-11T16:06:29.092726Z",
     "iopub.status.idle": "2024-11-11T16:06:29.102515Z",
     "shell.execute_reply": "2024-11-11T16:06:29.101372Z"
    },
    "papermill": {
     "duration": 0.121923,
     "end_time": "2024-11-11T16:06:29.105119",
     "exception": false,
     "start_time": "2024-11-11T16:06:28.983196",
     "status": "completed"
    },
    "tags": []
   },
   "outputs": [],
   "source": [
    "# XGBoost Hyperparameters\n",
    "xgb_params = {\n",
    "    'n_estimators': 200,\n",
    "    'learning_rate': 0.05,\n",
    "    'max_depth': 6,\n",
    "    'min_child_weight': 1,\n",
    "    'subsample': 0.8,\n",
    "    'colsample_bytree': 0.8,\n",
    "    'gamma': 0,\n",
    "    'reg_alpha': 1,\n",
    "    'reg_lambda': 5,\n",
    "    'random_state': 42\n",
    "}\n",
    "\n",
    "# CatBoost Hyperparameters\n",
    "cat_params = {\n",
    "    'iterations': 200,\n",
    "    'learning_rate': 0.05,\n",
    "    'depth': 6,\n",
    "    'l2_leaf_reg': 10,\n",
    "    'subsample': 0.8,\n",
    "    'rsm': 0.8,\n",
    "    'border_count': 32,\n",
    "    'random_state': 42,\n",
    "    'silent': True\n",
    "}\n",
    "\n",
    "# Random Forest Hyperparameters\n",
    "rf_params = {\n",
    "    'n_estimators': 200,\n",
    "    'max_depth': None,\n",
    "    'min_samples_split': 2,\n",
    "    'min_samples_leaf': 1,\n",
    "    'bootstrap': True,\n",
    "    'random_state': 42\n",
    "}\n",
    "\n",
    "# Gradient Boosting Hyperparameters\n",
    "gb_params = {\n",
    "    'n_estimators': 200,\n",
    "    'learning_rate': 0.05,\n",
    "    'max_depth': 3,\n",
    "    'min_samples_split': 2,\n",
    "    'min_samples_leaf': 1,\n",
    "    'subsample': 1.0,\n",
    "    'random_state': 42\n",
    "}"
   ]
  },
  {
   "cell_type": "markdown",
   "id": "b4a99820",
   "metadata": {
    "papermill": {
     "duration": 0.107319,
     "end_time": "2024-11-11T16:06:29.321906",
     "exception": false,
     "start_time": "2024-11-11T16:06:29.214587",
     "status": "completed"
    },
    "tags": []
   },
   "source": [
    "### QWK Metric"
   ]
  },
  {
   "cell_type": "code",
   "execution_count": 49,
   "id": "23b4c036",
   "metadata": {
    "execution": {
     "iopub.execute_input": "2024-11-11T16:06:29.545534Z",
     "iopub.status.busy": "2024-11-11T16:06:29.545061Z",
     "iopub.status.idle": "2024-11-11T16:06:29.555812Z",
     "shell.execute_reply": "2024-11-11T16:06:29.554561Z"
    },
    "papermill": {
     "duration": 0.127102,
     "end_time": "2024-11-11T16:06:29.558350",
     "exception": false,
     "start_time": "2024-11-11T16:06:29.431248",
     "status": "completed"
    },
    "tags": []
   },
   "outputs": [],
   "source": [
    "# Define QWK calculation function\n",
    "def quadratic_weighted_kappa(y_true, y_pred, num_classes=4):\n",
    "    y_pred = y_pred.round().astype(int).clip(0, num_classes - 1)\n",
    "    return cohen_kappa_score(y_true, y_pred, weights='quadratic')\n",
    "\n",
    "# Define a function to round predictions based on optimized thresholds\n",
    "def threshold_rounder(predictions, thresholds):\n",
    "    return np.where(predictions < thresholds[0], 0,\n",
    "                    np.where(predictions < thresholds[1], 1,\n",
    "                             np.where(predictions < thresholds[2], 2, 3)))\n",
    "\n",
    "# Optimization function for QWK thresholds\n",
    "def optimize_qwk_thresholds(predictions, y_true):\n",
    "    def evaluate_thresholds(thresholds):\n",
    "        rounded_preds = threshold_rounder(predictions, thresholds)\n",
    "        return -quadratic_weighted_kappa(y_true, rounded_preds)\n",
    "    \n",
    "    # Optimize thresholds\n",
    "    result = minimize(evaluate_thresholds, x0=[0.5, 1.5, 2.5], method='Nelder-Mead')\n",
    "    return result.x if result.success else [0.5, 1.5, 2.5]"
   ]
  },
  {
   "cell_type": "code",
   "execution_count": 50,
   "id": "499a7b54",
   "metadata": {
    "execution": {
     "iopub.execute_input": "2024-11-11T16:06:29.799145Z",
     "iopub.status.busy": "2024-11-11T16:06:29.798675Z",
     "iopub.status.idle": "2024-11-11T16:06:29.808871Z",
     "shell.execute_reply": "2024-11-11T16:06:29.807390Z"
    },
    "papermill": {
     "duration": 0.145056,
     "end_time": "2024-11-11T16:06:29.811508",
     "exception": false,
     "start_time": "2024-11-11T16:06:29.666452",
     "status": "completed"
    },
    "tags": []
   },
   "outputs": [],
   "source": [
    "# Initialize models with specified hyperparameters\n",
    "rf_model = RandomForestRegressor(**rf_params)\n",
    "xgb_model = XGBRegressor(**xgb_params)\n",
    "cat_model = CatBoostRegressor(**cat_params)\n",
    "gb_model = GradientBoostingRegressor(**gb_params)"
   ]
  },
  {
   "cell_type": "code",
   "execution_count": 51,
   "id": "b3de1f72",
   "metadata": {
    "execution": {
     "iopub.execute_input": "2024-11-11T16:06:30.031076Z",
     "iopub.status.busy": "2024-11-11T16:06:30.030626Z",
     "iopub.status.idle": "2024-11-11T16:07:39.537618Z",
     "shell.execute_reply": "2024-11-11T16:07:39.536349Z"
    },
    "papermill": {
     "duration": 69.728737,
     "end_time": "2024-11-11T16:07:39.648558",
     "exception": false,
     "start_time": "2024-11-11T16:06:29.919821",
     "status": "completed"
    },
    "tags": []
   },
   "outputs": [
    {
     "name": "stdout",
     "output_type": "stream",
     "text": [
      "Optimized Voting Regressor QWK: 0.5916\n"
     ]
    }
   ],
   "source": [
    "# Initialize the voting regressor with optimized thresholds\n",
    "voting_regressor = VotingRegressor(estimators=[\n",
    "    ('rf', rf_model),\n",
    "    ('xgboost', xgb_model),\n",
    "    ('catboost', cat_model),\n",
    "    ('gb', gb_model)\n",
    "])\n",
    "\n",
    "# Fit and predict with voting regressor\n",
    "voting_regressor.fit(X_train_scaled, y_train)\n",
    "y_pred = voting_regressor.predict(X_test_scaled)\n",
    "\n",
    "# Optimize thresholds to maximize QWK\n",
    "optimal_thresholds = optimize_qwk_thresholds(y_pred, y_test)\n",
    "y_pred_rounded = threshold_rounder(y_pred, optimal_thresholds)\n",
    "\n",
    "# Calculate QWK with optimized thresholds\n",
    "qwk_score = quadratic_weighted_kappa(y_test, y_pred_rounded)\n",
    "print(f'Optimized Voting Regressor QWK: {qwk_score:.4f}')"
   ]
  },
  {
   "cell_type": "code",
   "execution_count": 52,
   "id": "24a617b0",
   "metadata": {
    "execution": {
     "iopub.execute_input": "2024-11-11T16:07:39.891234Z",
     "iopub.status.busy": "2024-11-11T16:07:39.890147Z",
     "iopub.status.idle": "2024-11-11T16:07:39.900086Z",
     "shell.execute_reply": "2024-11-11T16:07:39.898561Z"
    },
    "papermill": {
     "duration": 0.12243,
     "end_time": "2024-11-11T16:07:39.902457",
     "exception": false,
     "start_time": "2024-11-11T16:07:39.780027",
     "status": "completed"
    },
    "tags": []
   },
   "outputs": [
    {
     "name": "stdout",
     "output_type": "stream",
     "text": [
      "Quadratic Weighted Kappa score: 0.5066132962060563\n"
     ]
    }
   ],
   "source": [
    "# Round predictions to nearest integer as QWK requires discrete categories\n",
    "y_pred_rounded = np.round(y_pred).astype(int)\n",
    "\n",
    "# Calculate the Quadratic Weighted Kappa score\n",
    "qwk_score = cohen_kappa_score(y_test, y_pred_rounded, weights='quadratic')\n",
    "print(\"Quadratic Weighted Kappa score:\", qwk_score)"
   ]
  },
  {
   "cell_type": "code",
   "execution_count": 53,
   "id": "c97614d6",
   "metadata": {
    "execution": {
     "iopub.execute_input": "2024-11-11T16:07:40.127682Z",
     "iopub.status.busy": "2024-11-11T16:07:40.127206Z",
     "iopub.status.idle": "2024-11-11T16:07:40.181648Z",
     "shell.execute_reply": "2024-11-11T16:07:40.180375Z"
    },
    "papermill": {
     "duration": 0.171463,
     "end_time": "2024-11-11T16:07:40.184438",
     "exception": false,
     "start_time": "2024-11-11T16:07:40.012975",
     "status": "completed"
    },
    "tags": []
   },
   "outputs": [
    {
     "name": "stdout",
     "output_type": "stream",
     "text": [
      "Submission file created: submission.csv\n"
     ]
    },
    {
     "data": {
      "text/html": [
       "<div>\n",
       "<style scoped>\n",
       "    .dataframe tbody tr th:only-of-type {\n",
       "        vertical-align: middle;\n",
       "    }\n",
       "\n",
       "    .dataframe tbody tr th {\n",
       "        vertical-align: top;\n",
       "    }\n",
       "\n",
       "    .dataframe thead th {\n",
       "        text-align: right;\n",
       "    }\n",
       "</style>\n",
       "<table border=\"1\" class=\"dataframe\">\n",
       "  <thead>\n",
       "    <tr style=\"text-align: right;\">\n",
       "      <th></th>\n",
       "      <th>id</th>\n",
       "      <th>sii</th>\n",
       "    </tr>\n",
       "  </thead>\n",
       "  <tbody>\n",
       "    <tr>\n",
       "      <th>0</th>\n",
       "      <td>00008ff9</td>\n",
       "      <td>1</td>\n",
       "    </tr>\n",
       "    <tr>\n",
       "      <th>1</th>\n",
       "      <td>000fd460</td>\n",
       "      <td>0</td>\n",
       "    </tr>\n",
       "    <tr>\n",
       "      <th>2</th>\n",
       "      <td>00105258</td>\n",
       "      <td>1</td>\n",
       "    </tr>\n",
       "    <tr>\n",
       "      <th>3</th>\n",
       "      <td>00115b9f</td>\n",
       "      <td>1</td>\n",
       "    </tr>\n",
       "    <tr>\n",
       "      <th>4</th>\n",
       "      <td>0016bb22</td>\n",
       "      <td>1</td>\n",
       "    </tr>\n",
       "    <tr>\n",
       "      <th>5</th>\n",
       "      <td>001f3379</td>\n",
       "      <td>1</td>\n",
       "    </tr>\n",
       "    <tr>\n",
       "      <th>6</th>\n",
       "      <td>0038ba98</td>\n",
       "      <td>1</td>\n",
       "    </tr>\n",
       "    <tr>\n",
       "      <th>7</th>\n",
       "      <td>0068a485</td>\n",
       "      <td>1</td>\n",
       "    </tr>\n",
       "    <tr>\n",
       "      <th>8</th>\n",
       "      <td>0069fbed</td>\n",
       "      <td>1</td>\n",
       "    </tr>\n",
       "    <tr>\n",
       "      <th>9</th>\n",
       "      <td>0083e397</td>\n",
       "      <td>1</td>\n",
       "    </tr>\n",
       "    <tr>\n",
       "      <th>10</th>\n",
       "      <td>0087dd65</td>\n",
       "      <td>1</td>\n",
       "    </tr>\n",
       "    <tr>\n",
       "      <th>11</th>\n",
       "      <td>00abe655</td>\n",
       "      <td>1</td>\n",
       "    </tr>\n",
       "    <tr>\n",
       "      <th>12</th>\n",
       "      <td>00ae59c9</td>\n",
       "      <td>1</td>\n",
       "    </tr>\n",
       "    <tr>\n",
       "      <th>13</th>\n",
       "      <td>00af6387</td>\n",
       "      <td>1</td>\n",
       "    </tr>\n",
       "    <tr>\n",
       "      <th>14</th>\n",
       "      <td>00bd4359</td>\n",
       "      <td>1</td>\n",
       "    </tr>\n",
       "    <tr>\n",
       "      <th>15</th>\n",
       "      <td>00c0cd71</td>\n",
       "      <td>1</td>\n",
       "    </tr>\n",
       "    <tr>\n",
       "      <th>16</th>\n",
       "      <td>00d56d4b</td>\n",
       "      <td>0</td>\n",
       "    </tr>\n",
       "    <tr>\n",
       "      <th>17</th>\n",
       "      <td>00d9913d</td>\n",
       "      <td>1</td>\n",
       "    </tr>\n",
       "    <tr>\n",
       "      <th>18</th>\n",
       "      <td>00e6167c</td>\n",
       "      <td>1</td>\n",
       "    </tr>\n",
       "    <tr>\n",
       "      <th>19</th>\n",
       "      <td>00ebc35d</td>\n",
       "      <td>1</td>\n",
       "    </tr>\n",
       "  </tbody>\n",
       "</table>\n",
       "</div>"
      ],
      "text/plain": [
       "          id  sii\n",
       "0   00008ff9    1\n",
       "1   000fd460    0\n",
       "2   00105258    1\n",
       "3   00115b9f    1\n",
       "4   0016bb22    1\n",
       "5   001f3379    1\n",
       "6   0038ba98    1\n",
       "7   0068a485    1\n",
       "8   0069fbed    1\n",
       "9   0083e397    1\n",
       "10  0087dd65    1\n",
       "11  00abe655    1\n",
       "12  00ae59c9    1\n",
       "13  00af6387    1\n",
       "14  00bd4359    1\n",
       "15  00c0cd71    1\n",
       "16  00d56d4b    0\n",
       "17  00d9913d    1\n",
       "18  00e6167c    1\n",
       "19  00ebc35d    1"
      ]
     },
     "execution_count": 53,
     "metadata": {},
     "output_type": "execute_result"
    }
   ],
   "source": [
    "# Predict on test data and prepare for submission\n",
    "submission1 = voting_regressor.predict(test_scaled)\n",
    "\n",
    "# Convert predictions to integers by rounding\n",
    "submission1 = submission1.round().astype(int)\n",
    "\n",
    "# Create the submission DataFrame with 'id' from reloaded test_df and 'sii' as integer type\n",
    "submission = pd.DataFrame({\n",
    "    'id': test_og['id'],  # Use the original 'id' column from the reloaded test data\n",
    "    'sii': submission1  # 'sii' is now integer as required\n",
    "})\n",
    "\n",
    "# Save the submission file\n",
    "submission.to_csv('/kaggle/working/submission.csv', index=False)\n",
    "print(\"Submission file created: submission.csv\")\n",
    "submission"
   ]
  }
 ],
 "metadata": {
  "kaggle": {
   "accelerator": "none",
   "dataSources": [
    {
     "databundleVersionId": 9643020,
     "sourceId": 81933,
     "sourceType": "competition"
    }
   ],
   "dockerImageVersionId": 30786,
   "isGpuEnabled": false,
   "isInternetEnabled": false,
   "language": "python",
   "sourceType": "notebook"
  },
  "kernelspec": {
   "display_name": "Python 3",
   "language": "python",
   "name": "python3"
  },
  "language_info": {
   "codemirror_mode": {
    "name": "ipython",
    "version": 3
   },
   "file_extension": ".py",
   "mimetype": "text/x-python",
   "name": "python",
   "nbconvert_exporter": "python",
   "pygments_lexer": "ipython3",
   "version": "3.10.14"
  },
  "papermill": {
   "default_parameters": {},
   "duration": 342.837738,
   "end_time": "2024-11-11T16:07:44.435685",
   "environment_variables": {},
   "exception": null,
   "input_path": "__notebook__.ipynb",
   "output_path": "__notebook__.ipynb",
   "parameters": {},
   "start_time": "2024-11-11T16:02:01.597947",
   "version": "2.6.0"
  }
 },
 "nbformat": 4,
 "nbformat_minor": 5
}
